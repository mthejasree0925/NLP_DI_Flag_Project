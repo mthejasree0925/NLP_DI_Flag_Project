{
 "cells": [
  {
   "cell_type": "markdown",
   "id": "24929e33",
   "metadata": {},
   "source": [
    "#Problem statement: I want you to build a model to predict Outcome of the auditing Inspection (Outcome).\n"
   ]
  },
  {
   "cell_type": "code",
   "execution_count": 1,
   "id": "0335ed58",
   "metadata": {},
   "outputs": [],
   "source": [
    "import pandas as pd\n",
    "import numpy as np"
   ]
  },
  {
   "cell_type": "code",
   "execution_count": 2,
   "id": "1339d81e",
   "metadata": {},
   "outputs": [
    {
     "name": "stderr",
     "output_type": "stream",
     "text": [
      "C:\\Users\\life\\AppData\\Local\\Temp\\ipykernel_21260\\982419230.py:2: DtypeWarning: Columns (0,1,2,3,4,6,27,33,36,37,38) have mixed types. Specify dtype option on import or set low_memory=False.\n",
      "  df = pd.read_csv(\"AQWA_BASE_Data.csv\", encoding='latin1')\n"
     ]
    }
   ],
   "source": [
    "#load the data csv file\n",
    "df = pd.read_csv(\"AQWA_BASE_Data.csv\", encoding='latin1')\n"
   ]
  },
  {
   "cell_type": "code",
   "execution_count": 3,
   "id": "c06e22f8",
   "metadata": {},
   "outputs": [
    {
     "name": "stdout",
     "output_type": "stream",
     "text": [
      "Index(['SiteID', 'TargetID', 'InspAud_ID', 'ObservationID', 'STUDY_NO',\n",
      "       'TRIAL_CODE', 'COMPOUND_CODE', 'STUDY_PREFIX', 'STUDY_EXTENSION',\n",
      "       'STUDY_INDICATION', 'TargetCategory', 'AudInspType', 'AuditSubType',\n",
      "       'EffectiveStartDate', 'Aud_Ins_Date', 'Outcome', 'LegalName', 'Country',\n",
      "       'Location', 'AUD_INSP_DESCRIPTION', 'INTEXTSelfInspSA',\n",
      "       'MostCriticalTargetCategory', 'AG_INS_HA', 'AudInspStatus',\n",
      "       'AUD_INS_HA_COUNTRY', 'RespBU', 'STUDY_CENTER_NO',\n",
      "       'INSPECTING_HA_OTHER', 'ObservationRating', 'REPEAT_OBSERVATION',\n",
      "       'ObservShortDescription', 'OBSERVATION_STATUS', 'DI_flag', 'QASystem',\n",
      "       'Category', 'SubCategory', 'CHAPTER', 'QA_MODULE', 'QASubSystem',\n",
      "       'PROCESS', 'Q_SYSTEM', 'OBS_DESCRIPTION', 'ObsFullDescription',\n",
      "       'Aud/Insp', 'Qty', 'year', 'END_QUARTER'],\n",
      "      dtype='object')\n"
     ]
    }
   ],
   "source": [
    "# list of coloums in the dataset\n",
    "print(df.columns)"
   ]
  },
  {
   "cell_type": "code",
   "execution_count": 4,
   "id": "5a568734",
   "metadata": {},
   "outputs": [
    {
     "data": {
      "text/plain": [
       "SiteID                           29\n",
       "TargetID                         40\n",
       "InspAud_ID                       48\n",
       "ObservationID                  1050\n",
       "STUDY_NO                      35807\n",
       "TRIAL_CODE                    33769\n",
       "COMPOUND_CODE                 35811\n",
       "STUDY_PREFIX                  34420\n",
       "STUDY_EXTENSION               35801\n",
       "STUDY_INDICATION              35326\n",
       "TargetCategory                 1356\n",
       "AudInspType                      64\n",
       "AuditSubType                     65\n",
       "EffectiveStartDate               65\n",
       "Aud_Ins_Date                     65\n",
       "Outcome                         482\n",
       "LegalName                        65\n",
       "Country                          65\n",
       "Location                         65\n",
       "AUD_INSP_DESCRIPTION             65\n",
       "INTEXTSelfInspSA                 65\n",
       "MostCriticalTargetCategory     1177\n",
       "AG_INS_HA                        65\n",
       "AudInspStatus                    65\n",
       "AUD_INS_HA_COUNTRY            31021\n",
       "RespBU                           65\n",
       "STUDY_CENTER_NO               33590\n",
       "INSPECTING_HA_OTHER           34319\n",
       "ObservationRating              1272\n",
       "REPEAT_OBSERVATION             1272\n",
       "ObservShortDescription         1272\n",
       "OBSERVATION_STATUS             1272\n",
       "DI_flag                        1272\n",
       "QASystem                      35816\n",
       "Category                       1272\n",
       "SubCategory                    1272\n",
       "CHAPTER                       35816\n",
       "QA_MODULE                     35816\n",
       "QASubSystem                   35816\n",
       "PROCESS                        1272\n",
       "Q_SYSTEM                       1272\n",
       "OBS_DESCRIPTION                1273\n",
       "ObsFullDescription             1278\n",
       "Aud/Insp                         66\n",
       "Qty                              66\n",
       "year                             66\n",
       "END_QUARTER                      66\n",
       "dtype: int64"
      ]
     },
     "execution_count": 4,
     "metadata": {},
     "output_type": "execute_result"
    }
   ],
   "source": [
    "df.isna().sum()"
   ]
  },
  {
   "cell_type": "code",
   "execution_count": 5,
   "id": "e17fe763",
   "metadata": {},
   "outputs": [],
   "source": [
    "#drop unnecessary coloums\n",
    "drop_cols = [\n",
    "    'Aud/Insp', 'Qty', 'EffectiveStartDate', 'Aud_Ins_Date',\n",
    "    'STUDY_NO', 'TRIAL_CODE', 'COMPOUND_CODE', 'STUDY_PREFIX',\n",
    "    'STUDY_EXTENSION', 'STUDY_INDICATION', 'LegalName',\n",
    "    'INSPECTING_HA_OTHER', 'INTEXTSelfInspSA', 'AG_INS_HA', 'SiteID', 'TargetID', 'InspAud_ID', 'AUD_INS_HA_COUNTRY', 'RespBU', 'STUDY_CENTER_NO', 'QASystem', 'CHAPTER', 'QA_MODULE', 'QASubSystem', 'year', 'END_QUARTER'\n",
    "]\n",
    "df.drop(columns=drop_cols, inplace=True)"
   ]
  },
  {
   "cell_type": "code",
   "execution_count": 6,
   "id": "bf21c5e9",
   "metadata": {},
   "outputs": [
    {
     "data": {
      "text/html": [
       "<div>\n",
       "<style scoped>\n",
       "    .dataframe tbody tr th:only-of-type {\n",
       "        vertical-align: middle;\n",
       "    }\n",
       "\n",
       "    .dataframe tbody tr th {\n",
       "        vertical-align: top;\n",
       "    }\n",
       "\n",
       "    .dataframe thead th {\n",
       "        text-align: right;\n",
       "    }\n",
       "</style>\n",
       "<table border=\"1\" class=\"dataframe\">\n",
       "  <thead>\n",
       "    <tr style=\"text-align: right;\">\n",
       "      <th></th>\n",
       "      <th>ObservationID</th>\n",
       "      <th>TargetCategory</th>\n",
       "      <th>AudInspType</th>\n",
       "      <th>AuditSubType</th>\n",
       "      <th>Outcome</th>\n",
       "      <th>Country</th>\n",
       "      <th>Location</th>\n",
       "      <th>AUD_INSP_DESCRIPTION</th>\n",
       "      <th>MostCriticalTargetCategory</th>\n",
       "      <th>AudInspStatus</th>\n",
       "      <th>...</th>\n",
       "      <th>REPEAT_OBSERVATION</th>\n",
       "      <th>ObservShortDescription</th>\n",
       "      <th>OBSERVATION_STATUS</th>\n",
       "      <th>DI_flag</th>\n",
       "      <th>Category</th>\n",
       "      <th>SubCategory</th>\n",
       "      <th>PROCESS</th>\n",
       "      <th>Q_SYSTEM</th>\n",
       "      <th>OBS_DESCRIPTION</th>\n",
       "      <th>ObsFullDescription</th>\n",
       "    </tr>\n",
       "  </thead>\n",
       "  <tbody>\n",
       "    <tr>\n",
       "      <th>0</th>\n",
       "      <td>1979544.0</td>\n",
       "      <td>DP sterile</td>\n",
       "      <td>GMP</td>\n",
       "      <td>Pre-Qualification</td>\n",
       "      <td>Needs Improvement</td>\n",
       "      <td>Taiwan Republic of China</td>\n",
       "      <td>Tainan City,</td>\n",
       "      <td>Nang Kuang Pharmaceutical Co. ltd. (NKP)-NTO-T...</td>\n",
       "      <td>DP sterile</td>\n",
       "      <td>Closed - Done</td>\n",
       "      <td>...</td>\n",
       "      <td>No</td>\n",
       "      <td>Inadequate smoke films to demonstrate air-flow...</td>\n",
       "      <td>Closed - Done</td>\n",
       "      <td>No</td>\n",
       "      <td>C08 - Steriles/Asepsis</td>\n",
       "      <td>S08.12 - Smoke studies (airflow visualization,...</td>\n",
       "      <td>P23.03 - Environmental Monitoring</td>\n",
       "      <td>Q23 - Sterile Operations</td>\n",
       "      <td>Inadequate smoke films to demonstrate air-flow...</td>\n",
       "      <td>Ensure that smoke studies are filmed in a mann...</td>\n",
       "    </tr>\n",
       "    <tr>\n",
       "      <th>1</th>\n",
       "      <td>1989386.0</td>\n",
       "      <td>Medical Devices (assembly and accessories, com...</td>\n",
       "      <td>GMP</td>\n",
       "      <td>Routine</td>\n",
       "      <td>Satisfactory</td>\n",
       "      <td>Italy</td>\n",
       "      <td>Osnago, Lecco</td>\n",
       "      <td>Plastiape S.p.A.-NTO-Italy-Osnago, Lecco-GMP-N...</td>\n",
       "      <td>Medical Devices (assembly and accessories, com...</td>\n",
       "      <td>Closed - Done</td>\n",
       "      <td>...</td>\n",
       "      <td>No</td>\n",
       "      <td>Inadequate batch review.</td>\n",
       "      <td>Closed - Done</td>\n",
       "      <td>No</td>\n",
       "      <td>C02 - Quality</td>\n",
       "      <td>S02.63 - Batch record review/product release p...</td>\n",
       "      <td>P21.03 - Medical Devices Release</td>\n",
       "      <td>Q21 - Product Release</td>\n",
       "      <td>Inadequate batch review.</td>\n",
       "      <td>Ensure that the release SOP require and descri...</td>\n",
       "    </tr>\n",
       "  </tbody>\n",
       "</table>\n",
       "<p>2 rows × 21 columns</p>\n",
       "</div>"
      ],
      "text/plain": [
       "  ObservationID                                     TargetCategory  \\\n",
       "0     1979544.0                                         DP sterile   \n",
       "1     1989386.0  Medical Devices (assembly and accessories, com...   \n",
       "\n",
       "  AudInspType       AuditSubType            Outcome                   Country  \\\n",
       "0         GMP  Pre-Qualification  Needs Improvement  Taiwan Republic of China   \n",
       "1         GMP            Routine       Satisfactory                     Italy   \n",
       "\n",
       "        Location                               AUD_INSP_DESCRIPTION  \\\n",
       "0   Tainan City,  Nang Kuang Pharmaceutical Co. ltd. (NKP)-NTO-T...   \n",
       "1  Osnago, Lecco  Plastiape S.p.A.-NTO-Italy-Osnago, Lecco-GMP-N...   \n",
       "\n",
       "                          MostCriticalTargetCategory  AudInspStatus  ...  \\\n",
       "0                                         DP sterile  Closed - Done  ...   \n",
       "1  Medical Devices (assembly and accessories, com...  Closed - Done  ...   \n",
       "\n",
       "  REPEAT_OBSERVATION                             ObservShortDescription  \\\n",
       "0                 No  Inadequate smoke films to demonstrate air-flow...   \n",
       "1                 No                           Inadequate batch review.   \n",
       "\n",
       "  OBSERVATION_STATUS DI_flag                Category  \\\n",
       "0      Closed - Done      No  C08 - Steriles/Asepsis   \n",
       "1      Closed - Done      No           C02 - Quality   \n",
       "\n",
       "                                         SubCategory  \\\n",
       "0  S08.12 - Smoke studies (airflow visualization,...   \n",
       "1  S02.63 - Batch record review/product release p...   \n",
       "\n",
       "                             PROCESS                  Q_SYSTEM  \\\n",
       "0  P23.03 - Environmental Monitoring  Q23 - Sterile Operations   \n",
       "1   P21.03 - Medical Devices Release     Q21 - Product Release   \n",
       "\n",
       "                                     OBS_DESCRIPTION  \\\n",
       "0  Inadequate smoke films to demonstrate air-flow...   \n",
       "1                           Inadequate batch review.   \n",
       "\n",
       "                                  ObsFullDescription  \n",
       "0  Ensure that smoke studies are filmed in a mann...  \n",
       "1  Ensure that the release SOP require and descri...  \n",
       "\n",
       "[2 rows x 21 columns]"
      ]
     },
     "execution_count": 6,
     "metadata": {},
     "output_type": "execute_result"
    }
   ],
   "source": [
    "df.head(2)"
   ]
  },
  {
   "cell_type": "code",
   "execution_count": 7,
   "id": "686bdbd6",
   "metadata": {},
   "outputs": [
    {
     "data": {
      "text/plain": [
       "ObservationID                 1050\n",
       "TargetCategory                1356\n",
       "AudInspType                     64\n",
       "AuditSubType                    65\n",
       "Outcome                        482\n",
       "Country                         65\n",
       "Location                        65\n",
       "AUD_INSP_DESCRIPTION            65\n",
       "MostCriticalTargetCategory    1177\n",
       "AudInspStatus                   65\n",
       "ObservationRating             1272\n",
       "REPEAT_OBSERVATION            1272\n",
       "ObservShortDescription        1272\n",
       "OBSERVATION_STATUS            1272\n",
       "DI_flag                       1272\n",
       "Category                      1272\n",
       "SubCategory                   1272\n",
       "PROCESS                       1272\n",
       "Q_SYSTEM                      1272\n",
       "OBS_DESCRIPTION               1273\n",
       "ObsFullDescription            1278\n",
       "dtype: int64"
      ]
     },
     "execution_count": 7,
     "metadata": {},
     "output_type": "execute_result"
    }
   ],
   "source": [
    " df.isnull().sum()"
   ]
  },
  {
   "cell_type": "code",
   "execution_count": 8,
   "id": "a80c3b6e",
   "metadata": {},
   "outputs": [],
   "source": [
    "df.dropna(inplace=True)"
   ]
  },
  {
   "cell_type": "code",
   "execution_count": 9,
   "id": "bba9d97a",
   "metadata": {},
   "outputs": [
    {
     "data": {
      "text/html": [
       "<div>\n",
       "<style scoped>\n",
       "    .dataframe tbody tr th:only-of-type {\n",
       "        vertical-align: middle;\n",
       "    }\n",
       "\n",
       "    .dataframe tbody tr th {\n",
       "        vertical-align: top;\n",
       "    }\n",
       "\n",
       "    .dataframe thead th {\n",
       "        text-align: right;\n",
       "    }\n",
       "</style>\n",
       "<table border=\"1\" class=\"dataframe\">\n",
       "  <thead>\n",
       "    <tr style=\"text-align: right;\">\n",
       "      <th></th>\n",
       "      <th>ObservationID</th>\n",
       "      <th>TargetCategory</th>\n",
       "      <th>AudInspType</th>\n",
       "      <th>AuditSubType</th>\n",
       "      <th>Outcome</th>\n",
       "      <th>Country</th>\n",
       "      <th>Location</th>\n",
       "      <th>AUD_INSP_DESCRIPTION</th>\n",
       "      <th>MostCriticalTargetCategory</th>\n",
       "      <th>AudInspStatus</th>\n",
       "      <th>...</th>\n",
       "      <th>REPEAT_OBSERVATION</th>\n",
       "      <th>ObservShortDescription</th>\n",
       "      <th>OBSERVATION_STATUS</th>\n",
       "      <th>DI_flag</th>\n",
       "      <th>Category</th>\n",
       "      <th>SubCategory</th>\n",
       "      <th>PROCESS</th>\n",
       "      <th>Q_SYSTEM</th>\n",
       "      <th>OBS_DESCRIPTION</th>\n",
       "      <th>ObsFullDescription</th>\n",
       "    </tr>\n",
       "  </thead>\n",
       "  <tbody>\n",
       "    <tr>\n",
       "      <th>0</th>\n",
       "      <td>1979544.0</td>\n",
       "      <td>DP sterile</td>\n",
       "      <td>GMP</td>\n",
       "      <td>Pre-Qualification</td>\n",
       "      <td>Needs Improvement</td>\n",
       "      <td>Taiwan Republic of China</td>\n",
       "      <td>Tainan City,</td>\n",
       "      <td>Nang Kuang Pharmaceutical Co. ltd. (NKP)-NTO-T...</td>\n",
       "      <td>DP sterile</td>\n",
       "      <td>Closed - Done</td>\n",
       "      <td>...</td>\n",
       "      <td>No</td>\n",
       "      <td>Inadequate smoke films to demonstrate air-flow...</td>\n",
       "      <td>Closed - Done</td>\n",
       "      <td>No</td>\n",
       "      <td>C08 - Steriles/Asepsis</td>\n",
       "      <td>S08.12 - Smoke studies (airflow visualization,...</td>\n",
       "      <td>P23.03 - Environmental Monitoring</td>\n",
       "      <td>Q23 - Sterile Operations</td>\n",
       "      <td>Inadequate smoke films to demonstrate air-flow...</td>\n",
       "      <td>Ensure that smoke studies are filmed in a mann...</td>\n",
       "    </tr>\n",
       "    <tr>\n",
       "      <th>1</th>\n",
       "      <td>1989386.0</td>\n",
       "      <td>Medical Devices (assembly and accessories, com...</td>\n",
       "      <td>GMP</td>\n",
       "      <td>Routine</td>\n",
       "      <td>Satisfactory</td>\n",
       "      <td>Italy</td>\n",
       "      <td>Osnago, Lecco</td>\n",
       "      <td>Plastiape S.p.A.-NTO-Italy-Osnago, Lecco-GMP-N...</td>\n",
       "      <td>Medical Devices (assembly and accessories, com...</td>\n",
       "      <td>Closed - Done</td>\n",
       "      <td>...</td>\n",
       "      <td>No</td>\n",
       "      <td>Inadequate batch review.</td>\n",
       "      <td>Closed - Done</td>\n",
       "      <td>No</td>\n",
       "      <td>C02 - Quality</td>\n",
       "      <td>S02.63 - Batch record review/product release p...</td>\n",
       "      <td>P21.03 - Medical Devices Release</td>\n",
       "      <td>Q21 - Product Release</td>\n",
       "      <td>Inadequate batch review.</td>\n",
       "      <td>Ensure that the release SOP require and descri...</td>\n",
       "    </tr>\n",
       "  </tbody>\n",
       "</table>\n",
       "<p>2 rows × 21 columns</p>\n",
       "</div>"
      ],
      "text/plain": [
       "  ObservationID                                     TargetCategory  \\\n",
       "0     1979544.0                                         DP sterile   \n",
       "1     1989386.0  Medical Devices (assembly and accessories, com...   \n",
       "\n",
       "  AudInspType       AuditSubType            Outcome                   Country  \\\n",
       "0         GMP  Pre-Qualification  Needs Improvement  Taiwan Republic of China   \n",
       "1         GMP            Routine       Satisfactory                     Italy   \n",
       "\n",
       "        Location                               AUD_INSP_DESCRIPTION  \\\n",
       "0   Tainan City,  Nang Kuang Pharmaceutical Co. ltd. (NKP)-NTO-T...   \n",
       "1  Osnago, Lecco  Plastiape S.p.A.-NTO-Italy-Osnago, Lecco-GMP-N...   \n",
       "\n",
       "                          MostCriticalTargetCategory  AudInspStatus  ...  \\\n",
       "0                                         DP sterile  Closed - Done  ...   \n",
       "1  Medical Devices (assembly and accessories, com...  Closed - Done  ...   \n",
       "\n",
       "  REPEAT_OBSERVATION                             ObservShortDescription  \\\n",
       "0                 No  Inadequate smoke films to demonstrate air-flow...   \n",
       "1                 No                           Inadequate batch review.   \n",
       "\n",
       "  OBSERVATION_STATUS DI_flag                Category  \\\n",
       "0      Closed - Done      No  C08 - Steriles/Asepsis   \n",
       "1      Closed - Done      No           C02 - Quality   \n",
       "\n",
       "                                         SubCategory  \\\n",
       "0  S08.12 - Smoke studies (airflow visualization,...   \n",
       "1  S02.63 - Batch record review/product release p...   \n",
       "\n",
       "                             PROCESS                  Q_SYSTEM  \\\n",
       "0  P23.03 - Environmental Monitoring  Q23 - Sterile Operations   \n",
       "1   P21.03 - Medical Devices Release     Q21 - Product Release   \n",
       "\n",
       "                                     OBS_DESCRIPTION  \\\n",
       "0  Inadequate smoke films to demonstrate air-flow...   \n",
       "1                           Inadequate batch review.   \n",
       "\n",
       "                                  ObsFullDescription  \n",
       "0  Ensure that smoke studies are filmed in a mann...  \n",
       "1  Ensure that the release SOP require and descri...  \n",
       "\n",
       "[2 rows x 21 columns]"
      ]
     },
     "execution_count": 9,
     "metadata": {},
     "output_type": "execute_result"
    }
   ],
   "source": [
    "df.head(2)"
   ]
  },
  {
   "cell_type": "code",
   "execution_count": 10,
   "id": "f6ac1510",
   "metadata": {},
   "outputs": [
    {
     "data": {
      "text/plain": [
       "ObservationID                 0\n",
       "TargetCategory                0\n",
       "AudInspType                   0\n",
       "AuditSubType                  0\n",
       "Outcome                       0\n",
       "Country                       0\n",
       "Location                      0\n",
       "AUD_INSP_DESCRIPTION          0\n",
       "MostCriticalTargetCategory    0\n",
       "AudInspStatus                 0\n",
       "ObservationRating             0\n",
       "REPEAT_OBSERVATION            0\n",
       "ObservShortDescription        0\n",
       "OBSERVATION_STATUS            0\n",
       "DI_flag                       0\n",
       "Category                      0\n",
       "SubCategory                   0\n",
       "PROCESS                       0\n",
       "Q_SYSTEM                      0\n",
       "OBS_DESCRIPTION               0\n",
       "ObsFullDescription            0\n",
       "dtype: int64"
      ]
     },
     "execution_count": 10,
     "metadata": {},
     "output_type": "execute_result"
    }
   ],
   "source": [
    "df.isnull().sum()"
   ]
  },
  {
   "cell_type": "code",
   "execution_count": 11,
   "id": "ff8c6db3",
   "metadata": {},
   "outputs": [
    {
     "data": {
      "text/plain": [
       "(32645, 21)"
      ]
     },
     "execution_count": 11,
     "metadata": {},
     "output_type": "execute_result"
    }
   ],
   "source": [
    "df.shape"
   ]
  },
  {
   "cell_type": "markdown",
   "id": "a9901efe",
   "metadata": {},
   "source": [
    "# I want you to build a model to predict ObservationRating of the auditing Inspection (ObservationRating).\n"
   ]
  },
  {
   "cell_type": "code",
   "execution_count": 12,
   "id": "d6433966",
   "metadata": {},
   "outputs": [],
   "source": [
    "data = df[['Outcome','ObsFullDescription']]"
   ]
  },
  {
   "cell_type": "code",
   "execution_count": 13,
   "id": "026753dd",
   "metadata": {},
   "outputs": [
    {
     "name": "stdout",
     "output_type": "stream",
     "text": [
      "['Needs Improvement' 'Satisfactory' 'Not Applicable' ... 'Good'\n",
      " 'Satisfactory' 'Satisfactory']\n"
     ]
    },
    {
     "name": "stderr",
     "output_type": "stream",
     "text": [
      "C:\\Users\\life\\AppData\\Local\\Temp\\ipykernel_21260\\2809305394.py:4: SettingWithCopyWarning: \n",
      "A value is trying to be set on a copy of a slice from a DataFrame.\n",
      "Try using .loc[row_indexer,col_indexer] = value instead\n",
      "\n",
      "See the caveats in the documentation: https://pandas.pydata.org/pandas-docs/stable/user_guide/indexing.html#returning-a-view-versus-a-copy\n",
      "  data['Outcome'] = df['Outcome'].values\n"
     ]
    },
    {
     "data": {
      "text/html": [
       "<div>\n",
       "<style scoped>\n",
       "    .dataframe tbody tr th:only-of-type {\n",
       "        vertical-align: middle;\n",
       "    }\n",
       "\n",
       "    .dataframe tbody tr th {\n",
       "        vertical-align: top;\n",
       "    }\n",
       "\n",
       "    .dataframe thead th {\n",
       "        text-align: right;\n",
       "    }\n",
       "</style>\n",
       "<table border=\"1\" class=\"dataframe\">\n",
       "  <thead>\n",
       "    <tr style=\"text-align: right;\">\n",
       "      <th></th>\n",
       "      <th>Outcome</th>\n",
       "      <th>ObsFullDescription</th>\n",
       "    </tr>\n",
       "  </thead>\n",
       "  <tbody>\n",
       "    <tr>\n",
       "      <th>0</th>\n",
       "      <td>Needs Improvement</td>\n",
       "      <td>Ensure that smoke studies are filmed in a mann...</td>\n",
       "    </tr>\n",
       "    <tr>\n",
       "      <th>1</th>\n",
       "      <td>Satisfactory</td>\n",
       "      <td>Ensure that the release SOP require and descri...</td>\n",
       "    </tr>\n",
       "    <tr>\n",
       "      <th>2</th>\n",
       "      <td>Not Applicable</td>\n",
       "      <td>Ensure the cleaning status of all mobile equip...</td>\n",
       "    </tr>\n",
       "    <tr>\n",
       "      <th>3</th>\n",
       "      <td>Not Applicable</td>\n",
       "      <td>Ensure that a justification provided in case a...</td>\n",
       "    </tr>\n",
       "    <tr>\n",
       "      <th>4</th>\n",
       "      <td>Needs Improvement</td>\n",
       "      <td>Ensure appropriate handling and qualification ...</td>\n",
       "    </tr>\n",
       "    <tr>\n",
       "      <th>...</th>\n",
       "      <td>...</td>\n",
       "      <td>...</td>\n",
       "    </tr>\n",
       "    <tr>\n",
       "      <th>35775</th>\n",
       "      <td>Good</td>\n",
       "      <td>The company is requested to submit the followi...</td>\n",
       "    </tr>\n",
       "    <tr>\n",
       "      <th>35777</th>\n",
       "      <td>Satisfactory</td>\n",
       "      <td>2.\\tThe requirements of Clause 8.29 that the p...</td>\n",
       "    </tr>\n",
       "    <tr>\n",
       "      <th>35779</th>\n",
       "      <td>Good</td>\n",
       "      <td>There were several agreements between Novartis...</td>\n",
       "    </tr>\n",
       "    <tr>\n",
       "      <th>35780</th>\n",
       "      <td>Satisfactory</td>\n",
       "      <td>Some study members were .entered on the delega...</td>\n",
       "    </tr>\n",
       "    <tr>\n",
       "      <th>35782</th>\n",
       "      <td>Satisfactory</td>\n",
       "      <td>Corrective and Preventative Action procedure S...</td>\n",
       "    </tr>\n",
       "  </tbody>\n",
       "</table>\n",
       "<p>32645 rows × 2 columns</p>\n",
       "</div>"
      ],
      "text/plain": [
       "                 Outcome                                 ObsFullDescription\n",
       "0      Needs Improvement  Ensure that smoke studies are filmed in a mann...\n",
       "1           Satisfactory  Ensure that the release SOP require and descri...\n",
       "2         Not Applicable  Ensure the cleaning status of all mobile equip...\n",
       "3         Not Applicable  Ensure that a justification provided in case a...\n",
       "4      Needs Improvement  Ensure appropriate handling and qualification ...\n",
       "...                  ...                                                ...\n",
       "35775               Good  The company is requested to submit the followi...\n",
       "35777       Satisfactory  2.\\tThe requirements of Clause 8.29 that the p...\n",
       "35779               Good  There were several agreements between Novartis...\n",
       "35780       Satisfactory  Some study members were .entered on the delega...\n",
       "35782       Satisfactory  Corrective and Preventative Action procedure S...\n",
       "\n",
       "[32645 rows x 2 columns]"
      ]
     },
     "execution_count": 13,
     "metadata": {},
     "output_type": "execute_result"
    }
   ],
   "source": [
    "# add outcome coloumn to df3 from df variable\n",
    "print( df['Outcome'].values)\n",
    "# add outcome coloumn to df3 from df variable\n",
    "data['Outcome'] = df['Outcome'].values\n",
    "\n",
    "data"
   ]
  },
  {
   "cell_type": "code",
   "execution_count": 14,
   "id": "5947614e",
   "metadata": {},
   "outputs": [
    {
     "data": {
      "text/plain": [
       "(32645, 2)"
      ]
     },
     "execution_count": 14,
     "metadata": {},
     "output_type": "execute_result"
    }
   ],
   "source": [
    "data.shape"
   ]
  },
  {
   "cell_type": "code",
   "execution_count": 15,
   "id": "2e40aa2e",
   "metadata": {},
   "outputs": [
    {
     "data": {
      "text/html": [
       "<div>\n",
       "<style scoped>\n",
       "    .dataframe tbody tr th:only-of-type {\n",
       "        vertical-align: middle;\n",
       "    }\n",
       "\n",
       "    .dataframe tbody tr th {\n",
       "        vertical-align: top;\n",
       "    }\n",
       "\n",
       "    .dataframe thead th {\n",
       "        text-align: right;\n",
       "    }\n",
       "</style>\n",
       "<table border=\"1\" class=\"dataframe\">\n",
       "  <thead>\n",
       "    <tr style=\"text-align: right;\">\n",
       "      <th></th>\n",
       "      <th>Outcome</th>\n",
       "      <th>ObsFullDescription</th>\n",
       "    </tr>\n",
       "  </thead>\n",
       "  <tbody>\n",
       "    <tr>\n",
       "      <th>0</th>\n",
       "      <td>Needs Improvement</td>\n",
       "      <td>Ensure that smoke studies are filmed in a mann...</td>\n",
       "    </tr>\n",
       "    <tr>\n",
       "      <th>1</th>\n",
       "      <td>Satisfactory</td>\n",
       "      <td>Ensure that the release SOP require and descri...</td>\n",
       "    </tr>\n",
       "  </tbody>\n",
       "</table>\n",
       "</div>"
      ],
      "text/plain": [
       "             Outcome                                 ObsFullDescription\n",
       "0  Needs Improvement  Ensure that smoke studies are filmed in a mann...\n",
       "1       Satisfactory  Ensure that the release SOP require and descri..."
      ]
     },
     "execution_count": 15,
     "metadata": {},
     "output_type": "execute_result"
    }
   ],
   "source": [
    "data.head(2)"
   ]
  },
  {
   "cell_type": "code",
   "execution_count": 16,
   "id": "6ab0c400",
   "metadata": {},
   "outputs": [
    {
     "name": "stderr",
     "output_type": "stream",
     "text": [
      "C:\\Users\\life\\AppData\\Local\\Temp\\ipykernel_21260\\3558572276.py:1: SettingWithCopyWarning: \n",
      "A value is trying to be set on a copy of a slice from a DataFrame\n",
      "\n",
      "See the caveats in the documentation: https://pandas.pydata.org/pandas-docs/stable/user_guide/indexing.html#returning-a-view-versus-a-copy\n",
      "  data.dropna(subset=['ObsFullDescription'],inplace=True)\n"
     ]
    }
   ],
   "source": [
    "data.dropna(subset=['ObsFullDescription'],inplace=True)"
   ]
  },
  {
   "cell_type": "code",
   "execution_count": 19,
   "id": "1cfc4e84",
   "metadata": {},
   "outputs": [
    {
     "data": {
      "text/plain": [
       "Outcome\n",
       "Satisfactory         15542\n",
       "Not Applicable        8959\n",
       "Needs Improvement     4896\n",
       "Good                  3049\n",
       "Unsatisfactory         199\n",
       "Name: count, dtype: int64"
      ]
     },
     "execution_count": 19,
     "metadata": {},
     "output_type": "execute_result"
    }
   ],
   "source": [
    "# outcome coloumn value counts\n",
    "data['Outcome'].value_counts()\n",
    "\n"
   ]
  },
  {
   "cell_type": "code",
   "execution_count": 20,
   "id": "ed8f0b94",
   "metadata": {},
   "outputs": [
    {
     "name": "stderr",
     "output_type": "stream",
     "text": [
      "C:\\Users\\life\\AppData\\Local\\Temp\\ipykernel_21260\\2888161798.py:2: SettingWithCopyWarning: \n",
      "A value is trying to be set on a copy of a slice from a DataFrame.\n",
      "Try using .loc[row_indexer,col_indexer] = value instead\n",
      "\n",
      "See the caveats in the documentation: https://pandas.pydata.org/pandas-docs/stable/user_guide/indexing.html#returning-a-view-versus-a-copy\n",
      "  data['Outcome'] = data['Outcome'].map({'Satisfactory': 4, 'Unsatisfactory': 1, 'Needs Improvement': 2, 'Good': 3, 'Not Applicable': 0})\n"
     ]
    }
   ],
   "source": [
    "# encoding outcome coloumn as satisfactory:4, unsatisfactory:1, needs improvement: 2 good:3, not applicable:0\n",
    "data['Outcome'] = data['Outcome'].map({'Satisfactory': 4, 'Unsatisfactory': 1, 'Needs Improvement': 2, 'Good': 3, 'Not Applicable': 0})"
   ]
  },
  {
   "cell_type": "code",
   "execution_count": 21,
   "id": "eb7d438d",
   "metadata": {},
   "outputs": [
    {
     "data": {
      "text/html": [
       "<div>\n",
       "<style scoped>\n",
       "    .dataframe tbody tr th:only-of-type {\n",
       "        vertical-align: middle;\n",
       "    }\n",
       "\n",
       "    .dataframe tbody tr th {\n",
       "        vertical-align: top;\n",
       "    }\n",
       "\n",
       "    .dataframe thead th {\n",
       "        text-align: right;\n",
       "    }\n",
       "</style>\n",
       "<table border=\"1\" class=\"dataframe\">\n",
       "  <thead>\n",
       "    <tr style=\"text-align: right;\">\n",
       "      <th></th>\n",
       "      <th>Outcome</th>\n",
       "      <th>ObsFullDescription</th>\n",
       "    </tr>\n",
       "  </thead>\n",
       "  <tbody>\n",
       "    <tr>\n",
       "      <th>0</th>\n",
       "      <td>2</td>\n",
       "      <td>Ensure that smoke studies are filmed in a mann...</td>\n",
       "    </tr>\n",
       "    <tr>\n",
       "      <th>1</th>\n",
       "      <td>4</td>\n",
       "      <td>Ensure that the release SOP require and descri...</td>\n",
       "    </tr>\n",
       "    <tr>\n",
       "      <th>2</th>\n",
       "      <td>0</td>\n",
       "      <td>Ensure the cleaning status of all mobile equip...</td>\n",
       "    </tr>\n",
       "    <tr>\n",
       "      <th>3</th>\n",
       "      <td>0</td>\n",
       "      <td>Ensure that a justification provided in case a...</td>\n",
       "    </tr>\n",
       "    <tr>\n",
       "      <th>4</th>\n",
       "      <td>2</td>\n",
       "      <td>Ensure appropriate handling and qualification ...</td>\n",
       "    </tr>\n",
       "    <tr>\n",
       "      <th>...</th>\n",
       "      <td>...</td>\n",
       "      <td>...</td>\n",
       "    </tr>\n",
       "    <tr>\n",
       "      <th>35775</th>\n",
       "      <td>3</td>\n",
       "      <td>The company is requested to submit the followi...</td>\n",
       "    </tr>\n",
       "    <tr>\n",
       "      <th>35777</th>\n",
       "      <td>4</td>\n",
       "      <td>2.\\tThe requirements of Clause 8.29 that the p...</td>\n",
       "    </tr>\n",
       "    <tr>\n",
       "      <th>35779</th>\n",
       "      <td>3</td>\n",
       "      <td>There were several agreements between Novartis...</td>\n",
       "    </tr>\n",
       "    <tr>\n",
       "      <th>35780</th>\n",
       "      <td>4</td>\n",
       "      <td>Some study members were .entered on the delega...</td>\n",
       "    </tr>\n",
       "    <tr>\n",
       "      <th>35782</th>\n",
       "      <td>4</td>\n",
       "      <td>Corrective and Preventative Action procedure S...</td>\n",
       "    </tr>\n",
       "  </tbody>\n",
       "</table>\n",
       "<p>32645 rows × 2 columns</p>\n",
       "</div>"
      ],
      "text/plain": [
       "       Outcome                                 ObsFullDescription\n",
       "0            2  Ensure that smoke studies are filmed in a mann...\n",
       "1            4  Ensure that the release SOP require and descri...\n",
       "2            0  Ensure the cleaning status of all mobile equip...\n",
       "3            0  Ensure that a justification provided in case a...\n",
       "4            2  Ensure appropriate handling and qualification ...\n",
       "...        ...                                                ...\n",
       "35775        3  The company is requested to submit the followi...\n",
       "35777        4  2.\\tThe requirements of Clause 8.29 that the p...\n",
       "35779        3  There were several agreements between Novartis...\n",
       "35780        4  Some study members were .entered on the delega...\n",
       "35782        4  Corrective and Preventative Action procedure S...\n",
       "\n",
       "[32645 rows x 2 columns]"
      ]
     },
     "execution_count": 21,
     "metadata": {},
     "output_type": "execute_result"
    }
   ],
   "source": [
    "data"
   ]
  },
  {
   "cell_type": "code",
   "execution_count": 23,
   "id": "92da44e7",
   "metadata": {},
   "outputs": [],
   "source": [
    "import re\n",
    "import nltk\n",
    "from nltk.corpus import stopwords\n",
    "from sklearn.model_selection import train_test_split\n",
    "from sklearn.feature_extraction.text import TfidfVectorizer\n",
    "from sklearn.linear_model import LogisticRegression\n",
    "from sklearn.metrics import accuracy_score, classification_report"
   ]
  },
  {
   "cell_type": "code",
   "execution_count": null,
   "id": "03e5776a",
   "metadata": {},
   "outputs": [],
   "source": [
    "# lowercase, remove special characters and remove stop words\n",
    "def clean_text(text):\n",
    "    text = text.lower()  # lowercase\n",
    "    text = re.sub(r'\\W', ' ', text)  # remove special characters\n",
    "    text = re.sub(r'\\s+', ' ', text, flags=re.I)  # remove extra spaces\n",
    "    text = re.sub(r'^b\\s+', '', text)  # remove prefixed 'b'\n",
    "    text = re.sub(r'\\d+', '', text)  # remove numbers\n",
    "    text = text.strip()  # remove leading and trailing spaces\n",
    "    tokens = text.split()  # tokenize the text\n",
    "    tokens = [word for word in tokens if word not in stopwords.words('english')]  # remove stop words\n",
    "    return ' '.join(tokens)  # join tokens back to string# lowercase, remove special characters and remove stop words\n"
   ]
  },
  {
   "cell_type": "code",
   "execution_count": 25,
   "id": "a133f32a",
   "metadata": {},
   "outputs": [
    {
     "name": "stderr",
     "output_type": "stream",
     "text": [
      "C:\\Users\\life\\AppData\\Local\\Temp\\ipykernel_21260\\311378834.py:2: SettingWithCopyWarning: \n",
      "A value is trying to be set on a copy of a slice from a DataFrame.\n",
      "Try using .loc[row_indexer,col_indexer] = value instead\n",
      "\n",
      "See the caveats in the documentation: https://pandas.pydata.org/pandas-docs/stable/user_guide/indexing.html#returning-a-view-versus-a-copy\n",
      "  data['cleaned_ObsFullDescription'] = cleaned_text\n"
     ]
    },
    {
     "data": {
      "text/html": [
       "<div>\n",
       "<style scoped>\n",
       "    .dataframe tbody tr th:only-of-type {\n",
       "        vertical-align: middle;\n",
       "    }\n",
       "\n",
       "    .dataframe tbody tr th {\n",
       "        vertical-align: top;\n",
       "    }\n",
       "\n",
       "    .dataframe thead th {\n",
       "        text-align: right;\n",
       "    }\n",
       "</style>\n",
       "<table border=\"1\" class=\"dataframe\">\n",
       "  <thead>\n",
       "    <tr style=\"text-align: right;\">\n",
       "      <th></th>\n",
       "      <th>Outcome</th>\n",
       "      <th>ObsFullDescription</th>\n",
       "      <th>cleaned_ObsFullDescription</th>\n",
       "    </tr>\n",
       "  </thead>\n",
       "  <tbody>\n",
       "    <tr>\n",
       "      <th>0</th>\n",
       "      <td>2</td>\n",
       "      <td>Ensure that smoke studies are filmed in a mann...</td>\n",
       "      <td>ensure smoke studies filmed manner appropriate...</td>\n",
       "    </tr>\n",
       "    <tr>\n",
       "      <th>1</th>\n",
       "      <td>4</td>\n",
       "      <td>Ensure that the release SOP require and descri...</td>\n",
       "      <td>ensure release sop require describe review non...</td>\n",
       "    </tr>\n",
       "  </tbody>\n",
       "</table>\n",
       "</div>"
      ],
      "text/plain": [
       "   Outcome                                 ObsFullDescription  \\\n",
       "0        2  Ensure that smoke studies are filmed in a mann...   \n",
       "1        4  Ensure that the release SOP require and descri...   \n",
       "\n",
       "                          cleaned_ObsFullDescription  \n",
       "0  ensure smoke studies filmed manner appropriate...  \n",
       "1  ensure release sop require describe review non...  "
      ]
     },
     "execution_count": 25,
     "metadata": {},
     "output_type": "execute_result"
    }
   ],
   "source": [
    "cleaned_text = data['ObsFullDescription'].apply(clean_text)\n",
    "data['cleaned_ObsFullDescription'] = cleaned_text\n",
    "data.head(2)"
   ]
  },
  {
   "cell_type": "code",
   "execution_count": 27,
   "id": "73da7f33",
   "metadata": {},
   "outputs": [
    {
     "name": "stderr",
     "output_type": "stream",
     "text": [
      "c:\\Users\\life\\AppData\\Local\\Programs\\Python\\Python313\\Lib\\site-packages\\sklearn\\metrics\\_classification.py:1731: UndefinedMetricWarning: Precision is ill-defined and being set to 0.0 in labels with no predicted samples. Use `zero_division` parameter to control this behavior.\n",
      "  _warn_prf(average, modifier, f\"{metric.capitalize()} is\", result.shape[0])\n"
     ]
    },
    {
     "name": "stdout",
     "output_type": "stream",
     "text": [
      "                    Model  Accuracy  Precision    Recall  F1 Score\n",
      "0     Logistic Regression  0.692143   0.671463  0.692143  0.646398\n",
      "1           Random Forest  0.659979   0.689110  0.659979  0.588039\n",
      "2  Support Vector Machine  0.692755   0.717238  0.692755  0.632528\n",
      "3             Naive Bayes  0.555062   0.685789  0.555062  0.453977\n"
     ]
    },
    {
     "name": "stderr",
     "output_type": "stream",
     "text": [
      "c:\\Users\\life\\AppData\\Local\\Programs\\Python\\Python313\\Lib\\site-packages\\sklearn\\metrics\\_classification.py:1731: UndefinedMetricWarning: Precision is ill-defined and being set to 0.0 in labels with no predicted samples. Use `zero_division` parameter to control this behavior.\n",
      "  _warn_prf(average, modifier, f\"{metric.capitalize()} is\", result.shape[0])\n"
     ]
    }
   ],
   "source": [
    "#output column as outcome and feature column as cleaned_ObsFullDescription compare different models and display accuracy in a summary table\n",
    "from sklearn.linear_model import LogisticRegression\n",
    "from sklearn.ensemble import RandomForestClassifier\n",
    "from sklearn.svm import SVC\n",
    "from sklearn.naive_bayes import MultinomialNB\n",
    "from sklearn.metrics import accuracy_score, precision_score, recall_score, f1_score, confusion_matrix\n",
    "from sklearn.model_selection import train_test_split\n",
    "X = data['cleaned_ObsFullDescription']\n",
    "y = data['Outcome']\n",
    "\n",
    "X_train, X_test, y_train, y_test = train_test_split(X, y, test_size=0.2, random_state=42)\n",
    "vectorizer = TfidfVectorizer()\n",
    "X_train_vec = vectorizer.fit_transform(X_train)\n",
    "X_test_vec = vectorizer.transform(X_test)\n",
    "models = {\n",
    "    'Logistic Regression': LogisticRegression(max_iter=1000),\n",
    "    'Random Forest': RandomForestClassifier(),\n",
    "    'Support Vector Machine': SVC(),\n",
    "    'Naive Bayes': MultinomialNB()\n",
    "}\n",
    "results = []\n",
    "for model_name, model in models.items():    \n",
    "    model.fit(X_train_vec, y_train)\n",
    "    y_pred = model.predict(X_test_vec)\n",
    "    accuracy = accuracy_score(y_test, y_pred)\n",
    "    precision = precision_score(y_test, y_pred, average='weighted')\n",
    "    recall = recall_score(y_test, y_pred, average='weighted')\n",
    "    f1 = f1_score(y_test, y_pred, average='weighted')\n",
    "    results.append({\n",
    "        'Model': model_name,\n",
    "        'Accuracy': accuracy,\n",
    "        'Precision': precision,\n",
    "        'Recall': recall,\n",
    "        'F1 Score': f1\n",
    "    })      \n",
    "results_df = pd.DataFrame(results)\n",
    "print(results_df)   \n",
    "\n"
   ]
  },
  {
   "cell_type": "code",
   "execution_count": 28,
   "id": "a25a6a25",
   "metadata": {},
   "outputs": [
    {
     "name": "stdout",
     "output_type": "stream",
     "text": [
      "              precision    recall  f1-score   support\n",
      "\n",
      "           0       0.78      0.82      0.80      1796\n",
      "           1       0.00      0.00      0.00        37\n",
      "           2       0.64      0.25      0.36       963\n",
      "           3       0.49      0.06      0.11       591\n",
      "           4       0.66      0.88      0.75      3142\n",
      "\n",
      "    accuracy                           0.69      6529\n",
      "   macro avg       0.51      0.40      0.40      6529\n",
      "weighted avg       0.67      0.69      0.65      6529\n",
      "\n"
     ]
    },
    {
     "name": "stderr",
     "output_type": "stream",
     "text": [
      "c:\\Users\\life\\AppData\\Local\\Programs\\Python\\Python313\\Lib\\site-packages\\sklearn\\metrics\\_classification.py:1731: UndefinedMetricWarning: Precision is ill-defined and being set to 0.0 in labels with no predicted samples. Use `zero_division` parameter to control this behavior.\n",
      "  _warn_prf(average, modifier, f\"{metric.capitalize()} is\", result.shape[0])\n",
      "c:\\Users\\life\\AppData\\Local\\Programs\\Python\\Python313\\Lib\\site-packages\\sklearn\\metrics\\_classification.py:1731: UndefinedMetricWarning: Precision is ill-defined and being set to 0.0 in labels with no predicted samples. Use `zero_division` parameter to control this behavior.\n",
      "  _warn_prf(average, modifier, f\"{metric.capitalize()} is\", result.shape[0])\n",
      "c:\\Users\\life\\AppData\\Local\\Programs\\Python\\Python313\\Lib\\site-packages\\sklearn\\metrics\\_classification.py:1731: UndefinedMetricWarning: Precision is ill-defined and being set to 0.0 in labels with no predicted samples. Use `zero_division` parameter to control this behavior.\n",
      "  _warn_prf(average, modifier, f\"{metric.capitalize()} is\", result.shape[0])\n"
     ]
    }
   ],
   "source": [
    "#train the logistic regression model and display classification report\n",
    "log_reg = LogisticRegression(max_iter=1000) \n",
    "log_reg.fit(X_train_vec, y_train)\n",
    "y_pred = log_reg.predict(X_test_vec)\n",
    "print(classification_report(y_test, y_pred))\n",
    "        "
   ]
  },
  {
   "cell_type": "code",
   "execution_count": 26,
   "id": "68db8eee",
   "metadata": {},
   "outputs": [
    {
     "data": {
      "text/html": [
       "<div>\n",
       "<style scoped>\n",
       "    .dataframe tbody tr th:only-of-type {\n",
       "        vertical-align: middle;\n",
       "    }\n",
       "\n",
       "    .dataframe tbody tr th {\n",
       "        vertical-align: top;\n",
       "    }\n",
       "\n",
       "    .dataframe thead th {\n",
       "        text-align: right;\n",
       "    }\n",
       "</style>\n",
       "<table border=\"1\" class=\"dataframe\">\n",
       "  <thead>\n",
       "    <tr style=\"text-align: right;\">\n",
       "      <th></th>\n",
       "      <th>Outcome</th>\n",
       "      <th>ObsFullDescription</th>\n",
       "      <th>cleaned_ObsFullDescription</th>\n",
       "    </tr>\n",
       "  </thead>\n",
       "  <tbody>\n",
       "    <tr>\n",
       "      <th>0</th>\n",
       "      <td>2</td>\n",
       "      <td>Ensure that smoke studies are filmed in a mann...</td>\n",
       "      <td>ensure smoke studies filmed manner appropriate...</td>\n",
       "    </tr>\n",
       "    <tr>\n",
       "      <th>1</th>\n",
       "      <td>4</td>\n",
       "      <td>Ensure that the release SOP require and descri...</td>\n",
       "      <td>ensure release sop require describe review non...</td>\n",
       "    </tr>\n",
       "  </tbody>\n",
       "</table>\n",
       "</div>"
      ],
      "text/plain": [
       "   Outcome                                 ObsFullDescription  \\\n",
       "0        2  Ensure that smoke studies are filmed in a mann...   \n",
       "1        4  Ensure that the release SOP require and descri...   \n",
       "\n",
       "                          cleaned_ObsFullDescription  \n",
       "0  ensure smoke studies filmed manner appropriate...  \n",
       "1  ensure release sop require describe review non...  "
      ]
     },
     "execution_count": 26,
     "metadata": {},
     "output_type": "execute_result"
    }
   ],
   "source": [
    "data.head(2)"
   ]
  },
  {
   "cell_type": "code",
   "execution_count": null,
   "id": "4e8f0e8f",
   "metadata": {},
   "outputs": [],
   "source": [
    "#I want you to build a model to predict ObservationRating of the auditing Inspection (ObservationRating).\n"
   ]
  },
  {
   "cell_type": "code",
   "execution_count": 30,
   "id": "69fcfe7f",
   "metadata": {},
   "outputs": [
    {
     "name": "stderr",
     "output_type": "stream",
     "text": [
      "C:\\Users\\life\\AppData\\Local\\Temp\\ipykernel_21260\\2507767771.py:2: SettingWithCopyWarning: \n",
      "A value is trying to be set on a copy of a slice from a DataFrame.\n",
      "Try using .loc[row_indexer,col_indexer] = value instead\n",
      "\n",
      "See the caveats in the documentation: https://pandas.pydata.org/pandas-docs/stable/user_guide/indexing.html#returning-a-view-versus-a-copy\n",
      "  data['ObservationRating'] = df['ObservationRating'].values\n",
      "C:\\Users\\life\\AppData\\Local\\Temp\\ipykernel_21260\\2507767771.py:5: SettingWithCopyWarning: \n",
      "A value is trying to be set on a copy of a slice from a DataFrame\n",
      "\n",
      "See the caveats in the documentation: https://pandas.pydata.org/pandas-docs/stable/user_guide/indexing.html#returning-a-view-versus-a-copy\n",
      "  data.drop(columns=['Outcome'], inplace=True)\n"
     ]
    }
   ],
   "source": [
    "# add ObservationRating coloumn to df4 from df variable\n",
    "data['ObservationRating'] = df['ObservationRating'].values\n",
    "\n",
    "# remove outcome coloumn from df4\n",
    "data.drop(columns=['Outcome'], inplace=True)"
   ]
  },
  {
   "cell_type": "code",
   "execution_count": 31,
   "id": "751fc6c2",
   "metadata": {},
   "outputs": [
    {
     "data": {
      "text/html": [
       "<div>\n",
       "<style scoped>\n",
       "    .dataframe tbody tr th:only-of-type {\n",
       "        vertical-align: middle;\n",
       "    }\n",
       "\n",
       "    .dataframe tbody tr th {\n",
       "        vertical-align: top;\n",
       "    }\n",
       "\n",
       "    .dataframe thead th {\n",
       "        text-align: right;\n",
       "    }\n",
       "</style>\n",
       "<table border=\"1\" class=\"dataframe\">\n",
       "  <thead>\n",
       "    <tr style=\"text-align: right;\">\n",
       "      <th></th>\n",
       "      <th>ObsFullDescription</th>\n",
       "      <th>cleaned_ObsFullDescription</th>\n",
       "      <th>ObservationRating</th>\n",
       "    </tr>\n",
       "  </thead>\n",
       "  <tbody>\n",
       "    <tr>\n",
       "      <th>0</th>\n",
       "      <td>Ensure that smoke studies are filmed in a mann...</td>\n",
       "      <td>ensure smoke studies filmed manner appropriate...</td>\n",
       "      <td>Major</td>\n",
       "    </tr>\n",
       "    <tr>\n",
       "      <th>1</th>\n",
       "      <td>Ensure that the release SOP require and descri...</td>\n",
       "      <td>ensure release sop require describe review non...</td>\n",
       "      <td>Major</td>\n",
       "    </tr>\n",
       "  </tbody>\n",
       "</table>\n",
       "</div>"
      ],
      "text/plain": [
       "                                  ObsFullDescription  \\\n",
       "0  Ensure that smoke studies are filmed in a mann...   \n",
       "1  Ensure that the release SOP require and descri...   \n",
       "\n",
       "                          cleaned_ObsFullDescription ObservationRating  \n",
       "0  ensure smoke studies filmed manner appropriate...             Major  \n",
       "1  ensure release sop require describe review non...             Major  "
      ]
     },
     "execution_count": 31,
     "metadata": {},
     "output_type": "execute_result"
    }
   ],
   "source": [
    "data.head(2)"
   ]
  },
  {
   "cell_type": "code",
   "execution_count": 32,
   "id": "3aa6c997",
   "metadata": {},
   "outputs": [
    {
     "data": {
      "text/plain": [
       "ObsFullDescription            0\n",
       "cleaned_ObsFullDescription    0\n",
       "ObservationRating             0\n",
       "dtype: int64"
      ]
     },
     "execution_count": 32,
     "metadata": {},
     "output_type": "execute_result"
    }
   ],
   "source": [
    "#null count in data1\n",
    "data.isnull().sum()\n",
    "\n"
   ]
  },
  {
   "cell_type": "code",
   "execution_count": 33,
   "id": "4f847497",
   "metadata": {},
   "outputs": [
    {
     "data": {
      "text/plain": [
       "ObservationRating\n",
       "Minor             18474\n",
       "Major             10449\n",
       "Recommendation     3631\n",
       "Critical             91\n",
       "Name: count, dtype: int64"
      ]
     },
     "execution_count": 33,
     "metadata": {},
     "output_type": "execute_result"
    }
   ],
   "source": [
    "# value counts of ObservationRating coloumn\n",
    "data['ObservationRating'].value_counts()"
   ]
  },
  {
   "cell_type": "code",
   "execution_count": 34,
   "id": "b8fb9102",
   "metadata": {},
   "outputs": [
    {
     "name": "stderr",
     "output_type": "stream",
     "text": [
      "C:\\Users\\life\\AppData\\Local\\Temp\\ipykernel_21260\\1082802690.py:2: SettingWithCopyWarning: \n",
      "A value is trying to be set on a copy of a slice from a DataFrame.\n",
      "Try using .loc[row_indexer,col_indexer] = value instead\n",
      "\n",
      "See the caveats in the documentation: https://pandas.pydata.org/pandas-docs/stable/user_guide/indexing.html#returning-a-view-versus-a-copy\n",
      "  data['ObservationRating'] = data['ObservationRating'].map({'Major': 2, 'Minor': 1, 'Critical': 3, 'Recommendation': 0})\n"
     ]
    }
   ],
   "source": [
    "# encoding ObservationRating coloumn as major 3, minor 1, critical 2, Recommendation 0\n",
    "data['ObservationRating'] = data['ObservationRating'].map({'Major': 2, 'Minor': 1, 'Critical': 3, 'Recommendation': 0})"
   ]
  },
  {
   "cell_type": "code",
   "execution_count": 35,
   "id": "4c433fb0",
   "metadata": {},
   "outputs": [
    {
     "data": {
      "text/html": [
       "<div>\n",
       "<style scoped>\n",
       "    .dataframe tbody tr th:only-of-type {\n",
       "        vertical-align: middle;\n",
       "    }\n",
       "\n",
       "    .dataframe tbody tr th {\n",
       "        vertical-align: top;\n",
       "    }\n",
       "\n",
       "    .dataframe thead th {\n",
       "        text-align: right;\n",
       "    }\n",
       "</style>\n",
       "<table border=\"1\" class=\"dataframe\">\n",
       "  <thead>\n",
       "    <tr style=\"text-align: right;\">\n",
       "      <th></th>\n",
       "      <th>ObsFullDescription</th>\n",
       "      <th>cleaned_ObsFullDescription</th>\n",
       "      <th>ObservationRating</th>\n",
       "    </tr>\n",
       "  </thead>\n",
       "  <tbody>\n",
       "    <tr>\n",
       "      <th>0</th>\n",
       "      <td>Ensure that smoke studies are filmed in a mann...</td>\n",
       "      <td>ensure smoke studies filmed manner appropriate...</td>\n",
       "      <td>2</td>\n",
       "    </tr>\n",
       "    <tr>\n",
       "      <th>1</th>\n",
       "      <td>Ensure that the release SOP require and descri...</td>\n",
       "      <td>ensure release sop require describe review non...</td>\n",
       "      <td>2</td>\n",
       "    </tr>\n",
       "    <tr>\n",
       "      <th>2</th>\n",
       "      <td>Ensure the cleaning status of all mobile equip...</td>\n",
       "      <td>ensure cleaning status mobile equipment clearl...</td>\n",
       "      <td>1</td>\n",
       "    </tr>\n",
       "    <tr>\n",
       "      <th>3</th>\n",
       "      <td>Ensure that a justification provided in case a...</td>\n",
       "      <td>ensure justification provided case analytical ...</td>\n",
       "      <td>1</td>\n",
       "    </tr>\n",
       "    <tr>\n",
       "      <th>4</th>\n",
       "      <td>Ensure appropriate handling and qualification ...</td>\n",
       "      <td>ensure appropriate handling qualification stor...</td>\n",
       "      <td>2</td>\n",
       "    </tr>\n",
       "    <tr>\n",
       "      <th>...</th>\n",
       "      <td>...</td>\n",
       "      <td>...</td>\n",
       "      <td>...</td>\n",
       "    </tr>\n",
       "    <tr>\n",
       "      <th>35775</th>\n",
       "      <td>The company is requested to submit the followi...</td>\n",
       "      <td>company requested submit following information...</td>\n",
       "      <td>0</td>\n",
       "    </tr>\n",
       "    <tr>\n",
       "      <th>35777</th>\n",
       "      <td>2.\\tThe requirements of Clause 8.29 that the p...</td>\n",
       "      <td>requirements clause progress recall process re...</td>\n",
       "      <td>2</td>\n",
       "    </tr>\n",
       "    <tr>\n",
       "      <th>35779</th>\n",
       "      <td>There were several agreements between Novartis...</td>\n",
       "      <td>several agreements novartis local distributers...</td>\n",
       "      <td>1</td>\n",
       "    </tr>\n",
       "    <tr>\n",
       "      <th>35780</th>\n",
       "      <td>Some study members were .entered on the delega...</td>\n",
       "      <td>study members entered delegation log delegated...</td>\n",
       "      <td>2</td>\n",
       "    </tr>\n",
       "    <tr>\n",
       "      <th>35782</th>\n",
       "      <td>Corrective and Preventative Action procedure S...</td>\n",
       "      <td>corrective preventative action procedure sop v...</td>\n",
       "      <td>1</td>\n",
       "    </tr>\n",
       "  </tbody>\n",
       "</table>\n",
       "<p>32645 rows × 3 columns</p>\n",
       "</div>"
      ],
      "text/plain": [
       "                                      ObsFullDescription  \\\n",
       "0      Ensure that smoke studies are filmed in a mann...   \n",
       "1      Ensure that the release SOP require and descri...   \n",
       "2      Ensure the cleaning status of all mobile equip...   \n",
       "3      Ensure that a justification provided in case a...   \n",
       "4      Ensure appropriate handling and qualification ...   \n",
       "...                                                  ...   \n",
       "35775  The company is requested to submit the followi...   \n",
       "35777  2.\\tThe requirements of Clause 8.29 that the p...   \n",
       "35779  There were several agreements between Novartis...   \n",
       "35780  Some study members were .entered on the delega...   \n",
       "35782  Corrective and Preventative Action procedure S...   \n",
       "\n",
       "                              cleaned_ObsFullDescription  ObservationRating  \n",
       "0      ensure smoke studies filmed manner appropriate...                  2  \n",
       "1      ensure release sop require describe review non...                  2  \n",
       "2      ensure cleaning status mobile equipment clearl...                  1  \n",
       "3      ensure justification provided case analytical ...                  1  \n",
       "4      ensure appropriate handling qualification stor...                  2  \n",
       "...                                                  ...                ...  \n",
       "35775  company requested submit following information...                  0  \n",
       "35777  requirements clause progress recall process re...                  2  \n",
       "35779  several agreements novartis local distributers...                  1  \n",
       "35780  study members entered delegation log delegated...                  2  \n",
       "35782  corrective preventative action procedure sop v...                  1  \n",
       "\n",
       "[32645 rows x 3 columns]"
      ]
     },
     "execution_count": 35,
     "metadata": {},
     "output_type": "execute_result"
    }
   ],
   "source": [
    "data"
   ]
  },
  {
   "cell_type": "code",
   "execution_count": 36,
   "id": "88a37235",
   "metadata": {},
   "outputs": [
    {
     "name": "stdout",
     "output_type": "stream",
     "text": [
      "(26116, 60835)\n"
     ]
    }
   ],
   "source": [
    "#TRAIN THE MODEL TO PREDICT ObservationRating\n",
    "X = data['cleaned_ObsFullDescription']  \n",
    "y = data['ObservationRating']\n",
    "X_train, X_test, y_train, y_test = train_test_split(X, y, test_size=0.2, random_state=42)\n",
    "vectorizer = TfidfVectorizer()\n",
    "X_train_vec = vectorizer.fit_transform(X_train)\n",
    "X_test_vec = vectorizer.transform(X_test)\n",
    "print(X_train_vec.shape)\n"
   ]
  },
  {
   "cell_type": "code",
   "execution_count": 37,
   "id": "235971ee",
   "metadata": {},
   "outputs": [
    {
     "name": "stdout",
     "output_type": "stream",
     "text": [
      "<Compressed Sparse Row sparse matrix of dtype 'float64'\n",
      "\twith 1544493 stored elements and shape (32645, 68284)>\n",
      "  Coords\tValues\n",
      "  (0, 19764)\t0.0156224289731676\n",
      "  (0, 55262)\t0.4960380987848427\n",
      "  (0, 57150)\t0.05715554332016748\n",
      "  (0, 22372)\t0.2461221062841567\n",
      "  (0, 35300)\t0.056183920462059486\n",
      "  (0, 3982)\t0.055368095687192156\n",
      "  (0, 64123)\t0.22586552910478347\n",
      "  (0, 25316)\t0.12366960744408144\n",
      "  (0, 2226)\t0.11305911116635578\n",
      "  (0, 22743)\t0.2475297113009613\n",
      "  (0, 43155)\t0.2772017611782925\n",
      "  (0, 13770)\t0.14826193327645343\n",
      "  (0, 41494)\t0.051491189135034816\n",
      "  (0, 18314)\t0.18034041363957223\n",
      "  (0, 12317)\t0.1138338798147555\n",
      "  (0, 21039)\t0.020493123766884298\n",
      "  (0, 51352)\t0.06644626990464172\n",
      "  (0, 22374)\t0.10305095137715678\n",
      "  (0, 3352)\t0.11477542537402224\n",
      "  (0, 22373)\t0.11962220691326898\n",
      "  (0, 3980)\t0.048266820195099557\n",
      "  (0, 27057)\t0.09553679347559392\n",
      "  (0, 37900)\t0.19960071049017777\n",
      "  (0, 22749)\t0.12306105314207835\n",
      "  (0, 17774)\t0.12306105314207835\n",
      "  :\t:\n",
      "  (32644, 46611)\t0.11873849961647515\n",
      "  (32644, 1365)\t0.15555652056307115\n",
      "  (32644, 22970)\t0.12115617655402482\n",
      "  (32644, 36364)\t0.15114113310752877\n",
      "  (32644, 12961)\t0.11657536133659763\n",
      "  (32644, 49797)\t0.1592900130576202\n",
      "  (32644, 35190)\t0.10902146119953478\n",
      "  (32644, 35803)\t0.13541347823262745\n",
      "  (32644, 25093)\t0.11909002915472235\n",
      "  (32644, 10129)\t0.1467566138317693\n",
      "  (32644, 59114)\t0.13560984931885\n",
      "  (32644, 1360)\t0.1524387071701055\n",
      "  (32644, 8989)\t0.15914916492516942\n",
      "  (32644, 44228)\t0.2065698215196893\n",
      "  (32644, 25691)\t0.1848773205616551\n",
      "  (32644, 3158)\t0.15514936711561456\n",
      "  (32644, 36148)\t0.23463921716877242\n",
      "  (32644, 43310)\t0.20560421036405843\n",
      "  (32644, 13201)\t0.19008385952989096\n",
      "  (32644, 60817)\t0.2574944794414125\n",
      "  (32644, 28271)\t0.23463921716877242\n",
      "  (32644, 51279)\t0.2213164531465577\n",
      "  (32644, 46202)\t0.26268113182418806\n",
      "  (32644, 49330)\t0.27405530098500375\n",
      "  (32644, 55718)\t0.26225606553478775\n"
     ]
    }
   ],
   "source": [
    "#2.Vectorization using TF-IDF\n",
    "from sklearn.feature_extraction.text import TfidfVectorizer\n",
    "vectorizer = TfidfVectorizer()\n",
    "X_vec = vectorizer.fit_transform(data['cleaned_ObsFullDescription'])\n",
    "print(X_vec)\n"
   ]
  },
  {
   "cell_type": "code",
   "execution_count": 38,
   "id": "7df1f992",
   "metadata": {},
   "outputs": [
    {
     "name": "stdout",
     "output_type": "stream",
     "text": [
      "              precision    recall  f1-score   support\n",
      "\n",
      "           0       0.85      0.46      0.60       683\n",
      "           1       0.69      0.86      0.76      3667\n",
      "           2       0.66      0.49      0.56      2160\n",
      "           3       0.00      0.00      0.00        19\n",
      "\n",
      "    accuracy                           0.69      6529\n",
      "   macro avg       0.55      0.45      0.48      6529\n",
      "weighted avg       0.69      0.69      0.68      6529\n",
      "\n"
     ]
    },
    {
     "name": "stderr",
     "output_type": "stream",
     "text": [
      "c:\\Users\\life\\AppData\\Local\\Programs\\Python\\Python313\\Lib\\site-packages\\sklearn\\metrics\\_classification.py:1731: UndefinedMetricWarning: Precision is ill-defined and being set to 0.0 in labels with no predicted samples. Use `zero_division` parameter to control this behavior.\n",
      "  _warn_prf(average, modifier, f\"{metric.capitalize()} is\", result.shape[0])\n",
      "c:\\Users\\life\\AppData\\Local\\Programs\\Python\\Python313\\Lib\\site-packages\\sklearn\\metrics\\_classification.py:1731: UndefinedMetricWarning: Precision is ill-defined and being set to 0.0 in labels with no predicted samples. Use `zero_division` parameter to control this behavior.\n",
      "  _warn_prf(average, modifier, f\"{metric.capitalize()} is\", result.shape[0])\n",
      "c:\\Users\\life\\AppData\\Local\\Programs\\Python\\Python313\\Lib\\site-packages\\sklearn\\metrics\\_classification.py:1731: UndefinedMetricWarning: Precision is ill-defined and being set to 0.0 in labels with no predicted samples. Use `zero_division` parameter to control this behavior.\n",
      "  _warn_prf(average, modifier, f\"{metric.capitalize()} is\", result.shape[0])\n"
     ]
    }
   ],
   "source": [
    "#train the logistic regression model and display classification report\n",
    "log_reg = LogisticRegression(max_iter=1000)\n",
    "\n",
    "log_reg.fit(X_train_vec, y_train)\n",
    "y_pred = log_reg.predict(X_test_vec)\n",
    "print(classification_report(y_test, y_pred))\n"
   ]
  },
  {
   "cell_type": "code",
   "execution_count": null,
   "id": "6f02a386",
   "metadata": {},
   "outputs": [
    {
     "name": "stderr",
     "output_type": "stream",
     "text": [
      "c:\\Users\\life\\AppData\\Local\\Programs\\Python\\Python313\\Lib\\site-packages\\sklearn\\linear_model\\_logistic.py:1296: FutureWarning: Using the 'liblinear' solver for multiclass classification is deprecated. An error will be raised in 1.8. Either use another solver which supports the multinomial loss or wrap the estimator in a OneVsRestClassifier to keep applying a one-versus-rest scheme.\n",
      "  warnings.warn(\n",
      "c:\\Users\\life\\AppData\\Local\\Programs\\Python\\Python313\\Lib\\site-packages\\sklearn\\linear_model\\_logistic.py:1296: FutureWarning: Using the 'liblinear' solver for multiclass classification is deprecated. An error will be raised in 1.8. Either use another solver which supports the multinomial loss or wrap the estimator in a OneVsRestClassifier to keep applying a one-versus-rest scheme.\n",
      "  warnings.warn(\n",
      "c:\\Users\\life\\AppData\\Local\\Programs\\Python\\Python313\\Lib\\site-packages\\sklearn\\linear_model\\_logistic.py:1296: FutureWarning: Using the 'liblinear' solver for multiclass classification is deprecated. An error will be raised in 1.8. Either use another solver which supports the multinomial loss or wrap the estimator in a OneVsRestClassifier to keep applying a one-versus-rest scheme.\n",
      "  warnings.warn(\n",
      "c:\\Users\\life\\AppData\\Local\\Programs\\Python\\Python313\\Lib\\site-packages\\sklearn\\linear_model\\_logistic.py:1296: FutureWarning: Using the 'liblinear' solver for multiclass classification is deprecated. An error will be raised in 1.8. Either use another solver which supports the multinomial loss or wrap the estimator in a OneVsRestClassifier to keep applying a one-versus-rest scheme.\n",
      "  warnings.warn(\n",
      "c:\\Users\\life\\AppData\\Local\\Programs\\Python\\Python313\\Lib\\site-packages\\sklearn\\linear_model\\_logistic.py:1296: FutureWarning: Using the 'liblinear' solver for multiclass classification is deprecated. An error will be raised in 1.8. Either use another solver which supports the multinomial loss or wrap the estimator in a OneVsRestClassifier to keep applying a one-versus-rest scheme.\n",
      "  warnings.warn(\n",
      "c:\\Users\\life\\AppData\\Local\\Programs\\Python\\Python313\\Lib\\site-packages\\sklearn\\linear_model\\_logistic.py:1296: FutureWarning: Using the 'liblinear' solver for multiclass classification is deprecated. An error will be raised in 1.8. Either use another solver which supports the multinomial loss or wrap the estimator in a OneVsRestClassifier to keep applying a one-versus-rest scheme.\n",
      "  warnings.warn(\n",
      "c:\\Users\\life\\AppData\\Local\\Programs\\Python\\Python313\\Lib\\site-packages\\sklearn\\linear_model\\_logistic.py:1296: FutureWarning: Using the 'liblinear' solver for multiclass classification is deprecated. An error will be raised in 1.8. Either use another solver which supports the multinomial loss or wrap the estimator in a OneVsRestClassifier to keep applying a one-versus-rest scheme.\n",
      "  warnings.warn(\n",
      "c:\\Users\\life\\AppData\\Local\\Programs\\Python\\Python313\\Lib\\site-packages\\sklearn\\linear_model\\_logistic.py:1296: FutureWarning: Using the 'liblinear' solver for multiclass classification is deprecated. An error will be raised in 1.8. Either use another solver which supports the multinomial loss or wrap the estimator in a OneVsRestClassifier to keep applying a one-versus-rest scheme.\n",
      "  warnings.warn(\n",
      "c:\\Users\\life\\AppData\\Local\\Programs\\Python\\Python313\\Lib\\site-packages\\sklearn\\linear_model\\_logistic.py:1296: FutureWarning: Using the 'liblinear' solver for multiclass classification is deprecated. An error will be raised in 1.8. Either use another solver which supports the multinomial loss or wrap the estimator in a OneVsRestClassifier to keep applying a one-versus-rest scheme.\n",
      "  warnings.warn(\n",
      "c:\\Users\\life\\AppData\\Local\\Programs\\Python\\Python313\\Lib\\site-packages\\sklearn\\linear_model\\_logistic.py:1296: FutureWarning: Using the 'liblinear' solver for multiclass classification is deprecated. An error will be raised in 1.8. Either use another solver which supports the multinomial loss or wrap the estimator in a OneVsRestClassifier to keep applying a one-versus-rest scheme.\n",
      "  warnings.warn(\n",
      "c:\\Users\\life\\AppData\\Local\\Programs\\Python\\Python313\\Lib\\site-packages\\sklearn\\linear_model\\_logistic.py:1296: FutureWarning: Using the 'liblinear' solver for multiclass classification is deprecated. An error will be raised in 1.8. Either use another solver which supports the multinomial loss or wrap the estimator in a OneVsRestClassifier to keep applying a one-versus-rest scheme.\n",
      "  warnings.warn(\n",
      "c:\\Users\\life\\AppData\\Local\\Programs\\Python\\Python313\\Lib\\site-packages\\sklearn\\linear_model\\_logistic.py:1296: FutureWarning: Using the 'liblinear' solver for multiclass classification is deprecated. An error will be raised in 1.8. Either use another solver which supports the multinomial loss or wrap the estimator in a OneVsRestClassifier to keep applying a one-versus-rest scheme.\n",
      "  warnings.warn(\n",
      "c:\\Users\\life\\AppData\\Local\\Programs\\Python\\Python313\\Lib\\site-packages\\sklearn\\linear_model\\_logistic.py:1296: FutureWarning: Using the 'liblinear' solver for multiclass classification is deprecated. An error will be raised in 1.8. Either use another solver which supports the multinomial loss or wrap the estimator in a OneVsRestClassifier to keep applying a one-versus-rest scheme.\n",
      "  warnings.warn(\n"
     ]
    }
   ],
   "source": [
    "#hyperparameter tuning using GridSearchCV for Logistic Regression model\n",
    "from sklearn.model_selection import GridSearchCV\n",
    "from sklearn.linear_model import LogisticRegression\n",
    "param_grid = {\n",
    "    'C': [0.01, 0.1, 1, 10, 100],\n",
    "    'solver': ['liblinear', 'saga']\n",
    "}\n",
    "grid_search = GridSearchCV(LogisticRegression(max_iter=1000), param_grid, cv=5, scoring='accuracy')\n",
    "grid_search.fit(X_train_vec, y_train)\n",
    "best_model = grid_search.best_estimator_    \n",
    "print(best_model)\n"
   ]
  },
  {
   "cell_type": "code",
   "execution_count": null,
   "id": "243dd0bb",
   "metadata": {},
   "outputs": [],
   "source": []
  }
 ],
 "metadata": {
  "kernelspec": {
   "display_name": "Python 3",
   "language": "python",
   "name": "python3"
  },
  "language_info": {
   "codemirror_mode": {
    "name": "ipython",
    "version": 3
   },
   "file_extension": ".py",
   "mimetype": "text/x-python",
   "name": "python",
   "nbconvert_exporter": "python",
   "pygments_lexer": "ipython3",
   "version": "3.13.5"
  }
 },
 "nbformat": 4,
 "nbformat_minor": 5
}
