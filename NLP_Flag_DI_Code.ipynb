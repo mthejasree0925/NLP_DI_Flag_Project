{
 "cells": [
  {
   "cell_type": "code",
   "execution_count": 1,
   "id": "1a2a4fe7",
   "metadata": {},
   "outputs": [],
   "source": [
    "import pandas as pd\n",
    "import numpy as np"
   ]
  },
  {
   "cell_type": "code",
   "execution_count": 19,
   "id": "022fae55",
   "metadata": {},
   "outputs": [
    {
     "name": "stderr",
     "output_type": "stream",
     "text": [
      "C:\\Users\\life\\AppData\\Local\\Temp\\ipykernel_2860\\3472934025.py:1: DtypeWarning: Columns (0,1,2,3,4,6,27,33,36,37,38) have mixed types. Specify dtype option on import or set low_memory=False.\n",
      "  df = pd.read_csv(\"AQWA_BASE_Data.csv\", encoding='latin1')\n"
     ]
    }
   ],
   "source": [
    "df = pd.read_csv(\"AQWA_BASE_Data.csv\", encoding='latin1')\n"
   ]
  },
  {
   "cell_type": "markdown",
   "id": "b66766bb",
   "metadata": {},
   "source": [
    "ERROR: UnicodeDecodeError: 'utf-8' codec can't decode byte 0xc2 in position 87173: invalid continuation byte\n",
    "The error occurs because the CSV file contains characters that can't be decoded using the default UTF-8 encoding.\n",
    "To fix this, specify a different encoding (like 'latin1' or 'ISO-8859-1') when reading the file:"
   ]
  },
  {
   "cell_type": "code",
   "execution_count": 4,
   "id": "19fc64d0",
   "metadata": {},
   "outputs": [
    {
     "data": {
      "text/html": [
       "<div>\n",
       "<style scoped>\n",
       "    .dataframe tbody tr th:only-of-type {\n",
       "        vertical-align: middle;\n",
       "    }\n",
       "\n",
       "    .dataframe tbody tr th {\n",
       "        vertical-align: top;\n",
       "    }\n",
       "\n",
       "    .dataframe thead th {\n",
       "        text-align: right;\n",
       "    }\n",
       "</style>\n",
       "<table border=\"1\" class=\"dataframe\">\n",
       "  <thead>\n",
       "    <tr style=\"text-align: right;\">\n",
       "      <th></th>\n",
       "      <th>SiteID</th>\n",
       "      <th>TargetID</th>\n",
       "      <th>InspAud_ID</th>\n",
       "      <th>ObservationID</th>\n",
       "      <th>STUDY_NO</th>\n",
       "      <th>TRIAL_CODE</th>\n",
       "      <th>COMPOUND_CODE</th>\n",
       "      <th>STUDY_PREFIX</th>\n",
       "      <th>STUDY_EXTENSION</th>\n",
       "      <th>STUDY_INDICATION</th>\n",
       "      <th>...</th>\n",
       "      <th>QA_MODULE</th>\n",
       "      <th>QASubSystem</th>\n",
       "      <th>PROCESS</th>\n",
       "      <th>Q_SYSTEM</th>\n",
       "      <th>OBS_DESCRIPTION</th>\n",
       "      <th>ObsFullDescription</th>\n",
       "      <th>Aud/Insp</th>\n",
       "      <th>Qty</th>\n",
       "      <th>year</th>\n",
       "      <th>END_QUARTER</th>\n",
       "    </tr>\n",
       "  </thead>\n",
       "  <tbody>\n",
       "    <tr>\n",
       "      <th>0</th>\n",
       "      <td>1947282</td>\n",
       "      <td>1947284</td>\n",
       "      <td>1947992</td>\n",
       "      <td>1979544.0</td>\n",
       "      <td>NaN</td>\n",
       "      <td>NaN</td>\n",
       "      <td>NaN</td>\n",
       "      <td>NaN</td>\n",
       "      <td>NaN</td>\n",
       "      <td>NaN</td>\n",
       "      <td>...</td>\n",
       "      <td>NaN</td>\n",
       "      <td>NaN</td>\n",
       "      <td>P23.03 - Environmental Monitoring</td>\n",
       "      <td>Q23 - Sterile Operations</td>\n",
       "      <td>Inadequate smoke films to demonstrate air-flow...</td>\n",
       "      <td>Ensure that smoke studies are filmed in a mann...</td>\n",
       "      <td>Audit</td>\n",
       "      <td>2021Q2</td>\n",
       "      <td>2021.0</td>\n",
       "      <td>2.0</td>\n",
       "    </tr>\n",
       "    <tr>\n",
       "      <th>1</th>\n",
       "      <td>1580</td>\n",
       "      <td>757437</td>\n",
       "      <td>1724118</td>\n",
       "      <td>1989386.0</td>\n",
       "      <td>NaN</td>\n",
       "      <td>NaN</td>\n",
       "      <td>NaN</td>\n",
       "      <td>NaN</td>\n",
       "      <td>NaN</td>\n",
       "      <td>NaN</td>\n",
       "      <td>...</td>\n",
       "      <td>NaN</td>\n",
       "      <td>NaN</td>\n",
       "      <td>P21.03 - Medical Devices Release</td>\n",
       "      <td>Q21 - Product Release</td>\n",
       "      <td>Inadequate batch review.</td>\n",
       "      <td>Ensure that the release SOP require and descri...</td>\n",
       "      <td>Audit</td>\n",
       "      <td>2021Q3</td>\n",
       "      <td>2021.0</td>\n",
       "      <td>3.0</td>\n",
       "    </tr>\n",
       "  </tbody>\n",
       "</table>\n",
       "<p>2 rows × 47 columns</p>\n",
       "</div>"
      ],
      "text/plain": [
       "    SiteID TargetID InspAud_ID ObservationID STUDY_NO TRIAL_CODE  \\\n",
       "0  1947282  1947284    1947992     1979544.0      NaN        NaN   \n",
       "1     1580   757437    1724118     1989386.0      NaN        NaN   \n",
       "\n",
       "  COMPOUND_CODE STUDY_PREFIX STUDY_EXTENSION STUDY_INDICATION  ... QA_MODULE  \\\n",
       "0           NaN          NaN             NaN              NaN  ...       NaN   \n",
       "1           NaN          NaN             NaN              NaN  ...       NaN   \n",
       "\n",
       "  QASubSystem                            PROCESS                  Q_SYSTEM  \\\n",
       "0         NaN  P23.03 - Environmental Monitoring  Q23 - Sterile Operations   \n",
       "1         NaN   P21.03 - Medical Devices Release     Q21 - Product Release   \n",
       "\n",
       "                                     OBS_DESCRIPTION  \\\n",
       "0  Inadequate smoke films to demonstrate air-flow...   \n",
       "1                           Inadequate batch review.   \n",
       "\n",
       "                                  ObsFullDescription Aud/Insp     Qty    year  \\\n",
       "0  Ensure that smoke studies are filmed in a mann...    Audit  2021Q2  2021.0   \n",
       "1  Ensure that the release SOP require and descri...    Audit  2021Q3  2021.0   \n",
       "\n",
       "  END_QUARTER  \n",
       "0         2.0  \n",
       "1         3.0  \n",
       "\n",
       "[2 rows x 47 columns]"
      ]
     },
     "execution_count": 4,
     "metadata": {},
     "output_type": "execute_result"
    }
   ],
   "source": [
    "df.head(2)"
   ]
  },
  {
   "cell_type": "code",
   "execution_count": 5,
   "id": "17556454",
   "metadata": {},
   "outputs": [
    {
     "name": "stdout",
     "output_type": "stream",
     "text": [
      "<class 'pandas.core.frame.DataFrame'>\n",
      "RangeIndex: 35818 entries, 0 to 35817\n",
      "Data columns (total 47 columns):\n",
      " #   Column                      Non-Null Count  Dtype  \n",
      "---  ------                      --------------  -----  \n",
      " 0   SiteID                      35790 non-null  object \n",
      " 1   TargetID                    35779 non-null  object \n",
      " 2   InspAud_ID                  35771 non-null  object \n",
      " 3   ObservationID               34769 non-null  object \n",
      " 4   STUDY_NO                    12 non-null     object \n",
      " 5   TRIAL_CODE                  2050 non-null   object \n",
      " 6   COMPOUND_CODE               8 non-null      object \n",
      " 7   STUDY_PREFIX                1399 non-null   object \n",
      " 8   STUDY_EXTENSION             18 non-null     object \n",
      " 9   STUDY_INDICATION            493 non-null    object \n",
      " 10  TargetCategory              34463 non-null  object \n",
      " 11  AudInspType                 35755 non-null  object \n",
      " 12  AuditSubType                35754 non-null  object \n",
      " 13  EffectiveStartDate          35754 non-null  object \n",
      " 14  Aud_Ins_Date                35754 non-null  object \n",
      " 15  Outcome                     35337 non-null  object \n",
      " 16  LegalName                   35754 non-null  object \n",
      " 17  Country                     35754 non-null  object \n",
      " 18  Location                    35754 non-null  object \n",
      " 19  AUD_INSP_DESCRIPTION        35754 non-null  object \n",
      " 20  INTEXTSelfInspSA            35754 non-null  object \n",
      " 21  MostCriticalTargetCategory  34642 non-null  object \n",
      " 22  AG_INS_HA                   35754 non-null  object \n",
      " 23  AudInspStatus               35754 non-null  object \n",
      " 24  AUD_INS_HA_COUNTRY          4798 non-null   object \n",
      " 25  RespBU                      35754 non-null  object \n",
      " 26  STUDY_CENTER_NO             2229 non-null   object \n",
      " 27  INSPECTING_HA_OTHER         1500 non-null   object \n",
      " 28  ObservationRating           34547 non-null  object \n",
      " 29  REPEAT_OBSERVATION          34547 non-null  object \n",
      " 30  ObservShortDescription      34547 non-null  object \n",
      " 31  OBSERVATION_STATUS          34547 non-null  object \n",
      " 32  DI_flag                     34547 non-null  object \n",
      " 33  QASystem                    3 non-null      object \n",
      " 34  Category                    34547 non-null  object \n",
      " 35  SubCategory                 34547 non-null  object \n",
      " 36  CHAPTER                     3 non-null      object \n",
      " 37  QA_MODULE                   3 non-null      object \n",
      " 38  QASubSystem                 3 non-null      object \n",
      " 39  PROCESS                     34547 non-null  object \n",
      " 40  Q_SYSTEM                    34547 non-null  object \n",
      " 41  OBS_DESCRIPTION             34546 non-null  object \n",
      " 42  ObsFullDescription          34541 non-null  object \n",
      " 43  Aud/Insp                    35753 non-null  object \n",
      " 44  Qty                         35753 non-null  object \n",
      " 45  year                        35753 non-null  float64\n",
      " 46  END_QUARTER                 35753 non-null  float64\n",
      "dtypes: float64(2), object(45)\n",
      "memory usage: 12.8+ MB\n"
     ]
    }
   ],
   "source": [
    "df.info()"
   ]
  },
  {
   "cell_type": "code",
   "execution_count": 6,
   "id": "c0f44fb0",
   "metadata": {},
   "outputs": [
    {
     "data": {
      "text/plain": [
       "SiteID                           28\n",
       "TargetID                         39\n",
       "InspAud_ID                       47\n",
       "ObservationID                  1049\n",
       "STUDY_NO                      35806\n",
       "TRIAL_CODE                    33768\n",
       "COMPOUND_CODE                 35810\n",
       "STUDY_PREFIX                  34419\n",
       "STUDY_EXTENSION               35800\n",
       "STUDY_INDICATION              35325\n",
       "TargetCategory                 1355\n",
       "AudInspType                      63\n",
       "AuditSubType                     64\n",
       "EffectiveStartDate               64\n",
       "Aud_Ins_Date                     64\n",
       "Outcome                         481\n",
       "LegalName                        64\n",
       "Country                          64\n",
       "Location                         64\n",
       "AUD_INSP_DESCRIPTION             64\n",
       "INTEXTSelfInspSA                 64\n",
       "MostCriticalTargetCategory     1176\n",
       "AG_INS_HA                        64\n",
       "AudInspStatus                    64\n",
       "AUD_INS_HA_COUNTRY            31020\n",
       "RespBU                           64\n",
       "STUDY_CENTER_NO               33589\n",
       "INSPECTING_HA_OTHER           34318\n",
       "ObservationRating              1271\n",
       "REPEAT_OBSERVATION             1271\n",
       "ObservShortDescription         1271\n",
       "OBSERVATION_STATUS             1271\n",
       "DI_flag                        1271\n",
       "QASystem                      35815\n",
       "Category                       1271\n",
       "SubCategory                    1271\n",
       "CHAPTER                       35815\n",
       "QA_MODULE                     35815\n",
       "QASubSystem                   35815\n",
       "PROCESS                        1271\n",
       "Q_SYSTEM                       1271\n",
       "OBS_DESCRIPTION                1272\n",
       "ObsFullDescription             1277\n",
       "Aud/Insp                         65\n",
       "Qty                              65\n",
       "year                             65\n",
       "END_QUARTER                      65\n",
       "dtype: int64"
      ]
     },
     "execution_count": 6,
     "metadata": {},
     "output_type": "execute_result"
    }
   ],
   "source": [
    "df.isna().sum()"
   ]
  },
  {
   "cell_type": "code",
   "execution_count": 20,
   "id": "de06c0f6",
   "metadata": {},
   "outputs": [],
   "source": [
    "#drop unnecessary coloums\n",
    "drop_cols = [\n",
    "    'Aud/Insp', 'Qty', 'EffectiveStartDate', 'Aud_Ins_Date',\n",
    "    'STUDY_NO', 'TRIAL_CODE', 'COMPOUND_CODE', 'STUDY_PREFIX',\n",
    "    'STUDY_EXTENSION', 'STUDY_INDICATION', 'LegalName',\n",
    "    'INSPECTING_HA_OTHER', 'INTEXTSelfInspSA', 'AG_INS_HA', 'SiteID', 'TargetID', 'InspAud_ID', 'ObservationID', 'AUD_INS_HA_COUNTRY', 'RespBU', 'STUDY_CENTER_NO', 'QASystem', 'CHAPTER', 'QA_MODULE', 'QASubSystem', 'year', 'END_QUARTER'\n",
    "]\n",
    "df.drop(columns=drop_cols, inplace=True)"
   ]
  },
  {
   "cell_type": "code",
   "execution_count": 21,
   "id": "75c7724d",
   "metadata": {},
   "outputs": [
    {
     "data": {
      "text/plain": [
       "(35818, 20)"
      ]
     },
     "execution_count": 21,
     "metadata": {},
     "output_type": "execute_result"
    }
   ],
   "source": [
    "df.shape"
   ]
  },
  {
   "cell_type": "code",
   "execution_count": 22,
   "id": "a73d94b2",
   "metadata": {},
   "outputs": [
    {
     "data": {
      "text/plain": [
       "TargetCategory                1355\n",
       "AudInspType                     63\n",
       "AuditSubType                    64\n",
       "Outcome                        481\n",
       "Country                         64\n",
       "Location                        64\n",
       "AUD_INSP_DESCRIPTION            64\n",
       "MostCriticalTargetCategory    1176\n",
       "AudInspStatus                   64\n",
       "ObservationRating             1271\n",
       "REPEAT_OBSERVATION            1271\n",
       "ObservShortDescription        1271\n",
       "OBSERVATION_STATUS            1271\n",
       "DI_flag                       1271\n",
       "Category                      1271\n",
       "SubCategory                   1271\n",
       "PROCESS                       1271\n",
       "Q_SYSTEM                      1271\n",
       "OBS_DESCRIPTION               1272\n",
       "ObsFullDescription            1277\n",
       "dtype: int64"
      ]
     },
     "execution_count": 22,
     "metadata": {},
     "output_type": "execute_result"
    }
   ],
   "source": [
    "df.isnull().sum()"
   ]
  },
  {
   "cell_type": "code",
   "execution_count": 23,
   "id": "e317befc",
   "metadata": {},
   "outputs": [],
   "source": [
    "df.dropna(inplace=True)"
   ]
  },
  {
   "cell_type": "code",
   "execution_count": 24,
   "id": "dcdc1711",
   "metadata": {},
   "outputs": [
    {
     "data": {
      "text/plain": [
       "(32645, 20)"
      ]
     },
     "execution_count": 24,
     "metadata": {},
     "output_type": "execute_result"
    }
   ],
   "source": [
    "df.shape"
   ]
  },
  {
   "cell_type": "code",
   "execution_count": 25,
   "id": "6b03efd8",
   "metadata": {},
   "outputs": [
    {
     "data": {
      "text/plain": [
       "TargetCategory                0\n",
       "AudInspType                   0\n",
       "AuditSubType                  0\n",
       "Outcome                       0\n",
       "Country                       0\n",
       "Location                      0\n",
       "AUD_INSP_DESCRIPTION          0\n",
       "MostCriticalTargetCategory    0\n",
       "AudInspStatus                 0\n",
       "ObservationRating             0\n",
       "REPEAT_OBSERVATION            0\n",
       "ObservShortDescription        0\n",
       "OBSERVATION_STATUS            0\n",
       "DI_flag                       0\n",
       "Category                      0\n",
       "SubCategory                   0\n",
       "PROCESS                       0\n",
       "Q_SYSTEM                      0\n",
       "OBS_DESCRIPTION               0\n",
       "ObsFullDescription            0\n",
       "dtype: int64"
      ]
     },
     "execution_count": 25,
     "metadata": {},
     "output_type": "execute_result"
    }
   ],
   "source": [
    "df.isnull().sum()"
   ]
  },
  {
   "cell_type": "code",
   "execution_count": null,
   "id": "cd1c67d9",
   "metadata": {},
   "outputs": [],
   "source": [
    "##problem statmt1: I want you to build a model to Predict whether data integrity relates issues are there or not(DI_Flag column)."
   ]
  },
  {
   "cell_type": "code",
   "execution_count": 62,
   "id": "d2979907",
   "metadata": {},
   "outputs": [
    {
     "name": "stdout",
     "output_type": "stream",
     "text": [
      "DI_flag\n",
      "0    29296\n",
      "1     3349\n",
      "Name: count, dtype: int64\n",
      "0\n"
     ]
    }
   ],
   "source": [
    "print(df['DI_flag'].value_counts())\n",
    "print(df['DI_flag'].isnull().sum())"
   ]
  },
  {
   "cell_type": "code",
   "execution_count": 57,
   "id": "7e171669",
   "metadata": {},
   "outputs": [],
   "source": [
    "# encoding DI_flag column as No:0 , Yes:1\n",
    "data['DI_flag'] = df['DI_flag'].map({'No': 0, 'Yes': 1})"
   ]
  },
  {
   "cell_type": "code",
   "execution_count": 66,
   "id": "5f7b616a",
   "metadata": {},
   "outputs": [],
   "source": [
    "data.drop(columns=['DI_flag'], inplace=True)"
   ]
  },
  {
   "cell_type": "code",
   "execution_count": 67,
   "id": "afa57022",
   "metadata": {},
   "outputs": [
    {
     "data": {
      "text/plain": [
       "ObsFullDescription    0\n",
       "DI_flag_Labels        0\n",
       "dtype: int64"
      ]
     },
     "execution_count": 67,
     "metadata": {},
     "output_type": "execute_result"
    }
   ],
   "source": [
    "data.isnull().sum()"
   ]
  },
  {
   "cell_type": "code",
   "execution_count": 68,
   "id": "65827305",
   "metadata": {},
   "outputs": [
    {
     "data": {
      "text/plain": [
       "(32645, 2)"
      ]
     },
     "execution_count": 68,
     "metadata": {},
     "output_type": "execute_result"
    }
   ],
   "source": [
    "data.shape"
   ]
  },
  {
   "cell_type": "code",
   "execution_count": 69,
   "id": "576de508",
   "metadata": {},
   "outputs": [
    {
     "data": {
      "text/html": [
       "<div>\n",
       "<style scoped>\n",
       "    .dataframe tbody tr th:only-of-type {\n",
       "        vertical-align: middle;\n",
       "    }\n",
       "\n",
       "    .dataframe tbody tr th {\n",
       "        vertical-align: top;\n",
       "    }\n",
       "\n",
       "    .dataframe thead th {\n",
       "        text-align: right;\n",
       "    }\n",
       "</style>\n",
       "<table border=\"1\" class=\"dataframe\">\n",
       "  <thead>\n",
       "    <tr style=\"text-align: right;\">\n",
       "      <th></th>\n",
       "      <th>ObsFullDescription</th>\n",
       "      <th>DI_flag_Labels</th>\n",
       "    </tr>\n",
       "  </thead>\n",
       "  <tbody>\n",
       "    <tr>\n",
       "      <th>0</th>\n",
       "      <td>Ensure that smoke studies are filmed in a mann...</td>\n",
       "      <td>0</td>\n",
       "    </tr>\n",
       "    <tr>\n",
       "      <th>1</th>\n",
       "      <td>Ensure that the release SOP require and descri...</td>\n",
       "      <td>0</td>\n",
       "    </tr>\n",
       "  </tbody>\n",
       "</table>\n",
       "</div>"
      ],
      "text/plain": [
       "                                  ObsFullDescription  DI_flag_Labels\n",
       "0  Ensure that smoke studies are filmed in a mann...               0\n",
       "1  Ensure that the release SOP require and descri...               0"
      ]
     },
     "execution_count": 69,
     "metadata": {},
     "output_type": "execute_result"
    }
   ],
   "source": [
    "data.head(2)"
   ]
  },
  {
   "cell_type": "code",
   "execution_count": 70,
   "id": "14191ce4",
   "metadata": {},
   "outputs": [
    {
     "name": "stdout",
     "output_type": "stream",
     "text": [
      "Requirement already satisfied: nltk in c:\\users\\life\\appdata\\local\\programs\\python\\python313\\lib\\site-packages (3.9.1)\n",
      "Requirement already satisfied: click in c:\\users\\life\\appdata\\local\\programs\\python\\python313\\lib\\site-packages (from nltk) (8.2.1)\n",
      "Requirement already satisfied: joblib in c:\\users\\life\\appdata\\local\\programs\\python\\python313\\lib\\site-packages (from nltk) (1.5.1)\n",
      "Requirement already satisfied: regex>=2021.8.3 in c:\\users\\life\\appdata\\local\\programs\\python\\python313\\lib\\site-packages (from nltk) (2025.9.1)\n",
      "Requirement already satisfied: tqdm in c:\\users\\life\\appdata\\local\\programs\\python\\python313\\lib\\site-packages (from nltk) (4.67.1)\n",
      "Requirement already satisfied: colorama in c:\\users\\life\\appdata\\local\\programs\\python\\python313\\lib\\site-packages (from click->nltk) (0.4.6)\n",
      "Note: you may need to restart the kernel to use updated packages.\n"
     ]
    },
    {
     "name": "stderr",
     "output_type": "stream",
     "text": [
      "\n",
      "[notice] A new release of pip is available: 25.1.1 -> 25.2\n",
      "[notice] To update, run: python.exe -m pip install --upgrade pip\n"
     ]
    }
   ],
   "source": [
    "pip install nltk"
   ]
  },
  {
   "cell_type": "code",
   "execution_count": 71,
   "id": "fc44c882",
   "metadata": {},
   "outputs": [],
   "source": [
    "import re\n",
    "import nltk\n",
    "from nltk.corpus import stopwords"
   ]
  },
  {
   "cell_type": "code",
   "execution_count": 72,
   "id": "0dcdbb81",
   "metadata": {},
   "outputs": [],
   "source": [
    "# lowercase, remove special characters and remove stop words\n",
    "def clean_text(text):\n",
    "    text = text.lower()  # lowercase\n",
    "    text = re.sub(r'\\W', ' ', text)  # remove special characters\n",
    "    text = re.sub(r'\\s+', ' ', text, flags=re.I)  # remove extra spaces\n",
    "    text = re.sub(r'^b\\s+', '', text)  # remove prefixed 'b'\n",
    "    text = re.sub(r'\\d+', '', text)  # remove numbers\n",
    "    text = text.strip()  # remove leading and trailing spaces\n",
    "    tokens = text.split()  # tokenize the text\n",
    "    tokens = [word for word in tokens if word not in stopwords.words('english')]  # remove stop words\n",
    "    return ' '.join(tokens)  # join tokens back to string"
   ]
  },
  {
   "cell_type": "code",
   "execution_count": 74,
   "id": "0ed7a081",
   "metadata": {},
   "outputs": [
    {
     "data": {
      "text/html": [
       "<div>\n",
       "<style scoped>\n",
       "    .dataframe tbody tr th:only-of-type {\n",
       "        vertical-align: middle;\n",
       "    }\n",
       "\n",
       "    .dataframe tbody tr th {\n",
       "        vertical-align: top;\n",
       "    }\n",
       "\n",
       "    .dataframe thead th {\n",
       "        text-align: right;\n",
       "    }\n",
       "</style>\n",
       "<table border=\"1\" class=\"dataframe\">\n",
       "  <thead>\n",
       "    <tr style=\"text-align: right;\">\n",
       "      <th></th>\n",
       "      <th>ObsFullDescription</th>\n",
       "      <th>DI_flag_Labels</th>\n",
       "      <th>cleaned_ObsFullDescription</th>\n",
       "    </tr>\n",
       "  </thead>\n",
       "  <tbody>\n",
       "    <tr>\n",
       "      <th>0</th>\n",
       "      <td>Ensure that smoke studies are filmed in a mann...</td>\n",
       "      <td>0</td>\n",
       "      <td>ensure smoke studies filmed manner appropriate...</td>\n",
       "    </tr>\n",
       "    <tr>\n",
       "      <th>1</th>\n",
       "      <td>Ensure that the release SOP require and descri...</td>\n",
       "      <td>0</td>\n",
       "      <td>ensure release sop require describe review non...</td>\n",
       "    </tr>\n",
       "  </tbody>\n",
       "</table>\n",
       "</div>"
      ],
      "text/plain": [
       "                                  ObsFullDescription  DI_flag_Labels  \\\n",
       "0  Ensure that smoke studies are filmed in a mann...               0   \n",
       "1  Ensure that the release SOP require and descri...               0   \n",
       "\n",
       "                          cleaned_ObsFullDescription  \n",
       "0  ensure smoke studies filmed manner appropriate...  \n",
       "1  ensure release sop require describe review non...  "
      ]
     },
     "execution_count": 74,
     "metadata": {},
     "output_type": "execute_result"
    }
   ],
   "source": [
    "cleaned_text = data['ObsFullDescription'].apply(clean_text)\n",
    "data['cleaned_ObsFullDescription'] = cleaned_text\n",
    "data.head(2)"
   ]
  },
  {
   "cell_type": "code",
   "execution_count": 87,
   "id": "ac81736a",
   "metadata": {},
   "outputs": [
    {
     "name": "stdout",
     "output_type": "stream",
     "text": [
      "(26116,) (6529,) (26116,) (6529,)\n"
     ]
    }
   ],
   "source": [
    "#predict test accuracy and metrics\n",
    "#1.Split the data\n",
    "from sklearn.model_selection import train_test_split    \n",
    "X = data['cleaned_ObsFullDescription']\n",
    "y = df['DI_flag']       \n",
    "X_train, X_test, y_train, y_test = train_test_split(X, y, test_size=0.2, random_state=42)\n",
    "print(X_train.shape, X_test.shape, y_train.shape, y_test.shape)\n",
    "            "
   ]
  },
  {
   "cell_type": "code",
   "execution_count": null,
   "id": "eb0b79c4",
   "metadata": {},
   "outputs": [
    {
     "name": "stdout",
     "output_type": "stream",
     "text": [
      "Accuracy: 0.9205085005360698\n"
     ]
    }
   ],
   "source": [
    "#2.Vectorization\n",
    "from sklearn.feature_extraction.text import TfidfVectorizer\n",
    "vectorizer = TfidfVectorizer(max_features=5000)\n",
    "X_train_vectors = vectorizer.fit_transform(X_train)\n",
    "X_test_vectors = vectorizer.transform(X_test)\n",
    "accuracy = model.score(X_test_vectors, y_test)\n",
    "print(\"Accuracy:\", accuracy)"
   ]
  },
  {
   "cell_type": "code",
   "execution_count": null,
   "id": "85fbbb3b",
   "metadata": {},
   "outputs": [
    {
     "name": "stdout",
     "output_type": "stream",
     "text": [
      "Accuracy: 0.9205085005360698\n"
     ]
    }
   ],
   "source": [
    "#3.train the model\n",
    "from sklearn.linear_model import LogisticRegression\n",
    "model = LogisticRegression()    \n",
    "model.fit(X_train_vectors, y_train)\n",
    "#4.predict and evaluate the model\n",
    "# Predict on the test set\n",
    "y_pred = model.predict(X_test_vectors)\n",
    "accuracy = model.score(X_test_vectors, y_test)\n",
    "print(\"Accuracy:\", accuracy)   "
   ]
  },
  {
   "cell_type": "code",
   "execution_count": 80,
   "id": "6c080be0",
   "metadata": {},
   "outputs": [
    {
     "name": "stdout",
     "output_type": "stream",
     "text": [
      "Accuracy: 0.9205085005360698\n",
      "Classification Report:\n",
      "              precision    recall  f1-score   support\n",
      "\n",
      "           0       0.93      0.99      0.96      5860\n",
      "           1       0.75      0.33      0.46       669\n",
      "\n",
      "    accuracy                           0.92      6529\n",
      "   macro avg       0.84      0.66      0.71      6529\n",
      "weighted avg       0.91      0.92      0.91      6529\n",
      "\n"
     ]
    }
   ],
   "source": [
    "from sklearn.metrics import accuracy_score, classification_report, confusion_matrix\n",
    "accuracy = accuracy_score(y_test, y_pred)   \n",
    "print(f'Accuracy: {accuracy}')\n",
    "print('Classification Report:')         \n",
    "print(classification_report(y_test, y_pred))\n"
   ]
  },
  {
   "cell_type": "code",
   "execution_count": null,
   "id": "5ea49c3e",
   "metadata": {},
   "outputs": [],
   "source": []
  }
 ],
 "metadata": {
  "kernelspec": {
   "display_name": "Python 3",
   "language": "python",
   "name": "python3"
  },
  "language_info": {
   "codemirror_mode": {
    "name": "ipython",
    "version": 3
   },
   "file_extension": ".py",
   "mimetype": "text/x-python",
   "name": "python",
   "nbconvert_exporter": "python",
   "pygments_lexer": "ipython3",
   "version": "3.13.5"
  }
 },
 "nbformat": 4,
 "nbformat_minor": 5
}
