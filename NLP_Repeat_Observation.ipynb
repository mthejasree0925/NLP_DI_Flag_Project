{
 "cells": [
  {
   "cell_type": "markdown",
   "id": "2b0535b6",
   "metadata": {},
   "source": [
    "Problem statement: I want you to build a model to predict whether REPEAT_OBSERVATION is needed or NOT(REPEAT_OBSERVATION).\n"
   ]
  },
  {
   "cell_type": "code",
   "execution_count": 83,
   "id": "f9730fa4",
   "metadata": {},
   "outputs": [],
   "source": [
    "import pandas as pd\n",
    "import numpy as np"
   ]
  },
  {
   "cell_type": "code",
   "execution_count": 84,
   "id": "864a827d",
   "metadata": {},
   "outputs": [
    {
     "name": "stderr",
     "output_type": "stream",
     "text": [
      "C:\\Users\\life\\AppData\\Local\\Temp\\ipykernel_18260\\982419230.py:2: DtypeWarning: Columns (0,1,2,3,4,6,27,33,36,37,38) have mixed types. Specify dtype option on import or set low_memory=False.\n",
      "  df = pd.read_csv(\"AQWA_BASE_Data.csv\", encoding='latin1')\n"
     ]
    }
   ],
   "source": [
    "#load the data csv file\n",
    "df = pd.read_csv(\"AQWA_BASE_Data.csv\", encoding='latin1')\n"
   ]
  },
  {
   "cell_type": "code",
   "execution_count": 85,
   "id": "4816c4e7",
   "metadata": {},
   "outputs": [
    {
     "data": {
      "text/plain": [
       "SiteID                           29\n",
       "TargetID                         40\n",
       "InspAud_ID                       48\n",
       "ObservationID                  1050\n",
       "STUDY_NO                      35807\n",
       "TRIAL_CODE                    33769\n",
       "COMPOUND_CODE                 35811\n",
       "STUDY_PREFIX                  34420\n",
       "STUDY_EXTENSION               35801\n",
       "STUDY_INDICATION              35326\n",
       "TargetCategory                 1356\n",
       "AudInspType                      64\n",
       "AuditSubType                     65\n",
       "EffectiveStartDate               65\n",
       "Aud_Ins_Date                     65\n",
       "Outcome                         482\n",
       "LegalName                        65\n",
       "Country                          65\n",
       "Location                         65\n",
       "AUD_INSP_DESCRIPTION             65\n",
       "INTEXTSelfInspSA                 65\n",
       "MostCriticalTargetCategory     1177\n",
       "AG_INS_HA                        65\n",
       "AudInspStatus                    65\n",
       "AUD_INS_HA_COUNTRY            31021\n",
       "RespBU                           65\n",
       "STUDY_CENTER_NO               33590\n",
       "INSPECTING_HA_OTHER           34319\n",
       "ObservationRating              1272\n",
       "REPEAT_OBSERVATION             1272\n",
       "ObservShortDescription         1272\n",
       "OBSERVATION_STATUS             1272\n",
       "DI_flag                        1272\n",
       "QASystem                      35816\n",
       "Category                       1272\n",
       "SubCategory                    1272\n",
       "CHAPTER                       35816\n",
       "QA_MODULE                     35816\n",
       "QASubSystem                   35816\n",
       "PROCESS                        1272\n",
       "Q_SYSTEM                       1272\n",
       "OBS_DESCRIPTION                1273\n",
       "ObsFullDescription             1278\n",
       "Aud/Insp                         66\n",
       "Qty                              66\n",
       "year                             66\n",
       "END_QUARTER                      66\n",
       "dtype: int64"
      ]
     },
     "execution_count": 85,
     "metadata": {},
     "output_type": "execute_result"
    }
   ],
   "source": [
    "df.isna().sum()"
   ]
  },
  {
   "cell_type": "code",
   "execution_count": 86,
   "id": "c2d02e89",
   "metadata": {},
   "outputs": [],
   "source": [
    "#drop unnecessary coloums\n",
    "drop_cols = [\n",
    "    'Aud/Insp', 'Qty', 'EffectiveStartDate', 'Aud_Ins_Date',\n",
    "    'STUDY_NO', 'TRIAL_CODE', 'COMPOUND_CODE', 'STUDY_PREFIX',\n",
    "    'STUDY_EXTENSION', 'STUDY_INDICATION', 'LegalName',\n",
    "    'INSPECTING_HA_OTHER', 'INTEXTSelfInspSA', 'AG_INS_HA', 'SiteID', 'TargetID', 'InspAud_ID', 'AUD_INS_HA_COUNTRY', 'RespBU', 'STUDY_CENTER_NO', 'QASystem', 'CHAPTER', 'QA_MODULE', 'QASubSystem', 'year', 'END_QUARTER'\n",
    "]\n",
    "df.drop(columns=drop_cols, inplace=True)"
   ]
  },
  {
   "cell_type": "code",
   "execution_count": 87,
   "id": "5b63dc87",
   "metadata": {},
   "outputs": [
    {
     "name": "stdout",
     "output_type": "stream",
     "text": [
      "<class 'pandas.core.frame.DataFrame'>\n",
      "RangeIndex: 35819 entries, 0 to 35818\n",
      "Data columns (total 21 columns):\n",
      " #   Column                      Non-Null Count  Dtype \n",
      "---  ------                      --------------  ----- \n",
      " 0   ObservationID               34769 non-null  object\n",
      " 1   TargetCategory              34463 non-null  object\n",
      " 2   AudInspType                 35755 non-null  object\n",
      " 3   AuditSubType                35754 non-null  object\n",
      " 4   Outcome                     35337 non-null  object\n",
      " 5   Country                     35754 non-null  object\n",
      " 6   Location                    35754 non-null  object\n",
      " 7   AUD_INSP_DESCRIPTION        35754 non-null  object\n",
      " 8   MostCriticalTargetCategory  34642 non-null  object\n",
      " 9   AudInspStatus               35754 non-null  object\n",
      " 10  ObservationRating           34547 non-null  object\n",
      " 11  REPEAT_OBSERVATION          34547 non-null  object\n",
      " 12  ObservShortDescription      34547 non-null  object\n",
      " 13  OBSERVATION_STATUS          34547 non-null  object\n",
      " 14  DI_flag                     34547 non-null  object\n",
      " 15  Category                    34547 non-null  object\n",
      " 16  SubCategory                 34547 non-null  object\n",
      " 17  PROCESS                     34547 non-null  object\n",
      " 18  Q_SYSTEM                    34547 non-null  object\n",
      " 19  OBS_DESCRIPTION             34546 non-null  object\n",
      " 20  ObsFullDescription          34541 non-null  object\n",
      "dtypes: object(21)\n",
      "memory usage: 5.7+ MB\n"
     ]
    }
   ],
   "source": [
    "df.info()\n"
   ]
  },
  {
   "cell_type": "code",
   "execution_count": 88,
   "id": "5a15ccfb",
   "metadata": {},
   "outputs": [
    {
     "data": {
      "text/html": [
       "<div>\n",
       "<style scoped>\n",
       "    .dataframe tbody tr th:only-of-type {\n",
       "        vertical-align: middle;\n",
       "    }\n",
       "\n",
       "    .dataframe tbody tr th {\n",
       "        vertical-align: top;\n",
       "    }\n",
       "\n",
       "    .dataframe thead th {\n",
       "        text-align: right;\n",
       "    }\n",
       "</style>\n",
       "<table border=\"1\" class=\"dataframe\">\n",
       "  <thead>\n",
       "    <tr style=\"text-align: right;\">\n",
       "      <th></th>\n",
       "      <th>ObservationID</th>\n",
       "      <th>TargetCategory</th>\n",
       "      <th>AudInspType</th>\n",
       "      <th>AuditSubType</th>\n",
       "      <th>Outcome</th>\n",
       "      <th>Country</th>\n",
       "      <th>Location</th>\n",
       "      <th>AUD_INSP_DESCRIPTION</th>\n",
       "      <th>MostCriticalTargetCategory</th>\n",
       "      <th>AudInspStatus</th>\n",
       "      <th>...</th>\n",
       "      <th>REPEAT_OBSERVATION</th>\n",
       "      <th>ObservShortDescription</th>\n",
       "      <th>OBSERVATION_STATUS</th>\n",
       "      <th>DI_flag</th>\n",
       "      <th>Category</th>\n",
       "      <th>SubCategory</th>\n",
       "      <th>PROCESS</th>\n",
       "      <th>Q_SYSTEM</th>\n",
       "      <th>OBS_DESCRIPTION</th>\n",
       "      <th>ObsFullDescription</th>\n",
       "    </tr>\n",
       "  </thead>\n",
       "  <tbody>\n",
       "    <tr>\n",
       "      <th>0</th>\n",
       "      <td>1979544.0</td>\n",
       "      <td>DP sterile</td>\n",
       "      <td>GMP</td>\n",
       "      <td>Pre-Qualification</td>\n",
       "      <td>Needs Improvement</td>\n",
       "      <td>Taiwan Republic of China</td>\n",
       "      <td>Tainan City,</td>\n",
       "      <td>Nang Kuang Pharmaceutical Co. ltd. (NKP)-NTO-T...</td>\n",
       "      <td>DP sterile</td>\n",
       "      <td>Closed - Done</td>\n",
       "      <td>...</td>\n",
       "      <td>No</td>\n",
       "      <td>Inadequate smoke films to demonstrate air-flow...</td>\n",
       "      <td>Closed - Done</td>\n",
       "      <td>No</td>\n",
       "      <td>C08 - Steriles/Asepsis</td>\n",
       "      <td>S08.12 - Smoke studies (airflow visualization,...</td>\n",
       "      <td>P23.03 - Environmental Monitoring</td>\n",
       "      <td>Q23 - Sterile Operations</td>\n",
       "      <td>Inadequate smoke films to demonstrate air-flow...</td>\n",
       "      <td>Ensure that smoke studies are filmed in a mann...</td>\n",
       "    </tr>\n",
       "    <tr>\n",
       "      <th>1</th>\n",
       "      <td>1989386.0</td>\n",
       "      <td>Medical Devices (assembly and accessories, com...</td>\n",
       "      <td>GMP</td>\n",
       "      <td>Routine</td>\n",
       "      <td>Satisfactory</td>\n",
       "      <td>Italy</td>\n",
       "      <td>Osnago, Lecco</td>\n",
       "      <td>Plastiape S.p.A.-NTO-Italy-Osnago, Lecco-GMP-N...</td>\n",
       "      <td>Medical Devices (assembly and accessories, com...</td>\n",
       "      <td>Closed - Done</td>\n",
       "      <td>...</td>\n",
       "      <td>No</td>\n",
       "      <td>Inadequate batch review.</td>\n",
       "      <td>Closed - Done</td>\n",
       "      <td>No</td>\n",
       "      <td>C02 - Quality</td>\n",
       "      <td>S02.63 - Batch record review/product release p...</td>\n",
       "      <td>P21.03 - Medical Devices Release</td>\n",
       "      <td>Q21 - Product Release</td>\n",
       "      <td>Inadequate batch review.</td>\n",
       "      <td>Ensure that the release SOP require and descri...</td>\n",
       "    </tr>\n",
       "  </tbody>\n",
       "</table>\n",
       "<p>2 rows × 21 columns</p>\n",
       "</div>"
      ],
      "text/plain": [
       "  ObservationID                                     TargetCategory  \\\n",
       "0     1979544.0                                         DP sterile   \n",
       "1     1989386.0  Medical Devices (assembly and accessories, com...   \n",
       "\n",
       "  AudInspType       AuditSubType            Outcome                   Country  \\\n",
       "0         GMP  Pre-Qualification  Needs Improvement  Taiwan Republic of China   \n",
       "1         GMP            Routine       Satisfactory                     Italy   \n",
       "\n",
       "        Location                               AUD_INSP_DESCRIPTION  \\\n",
       "0   Tainan City,  Nang Kuang Pharmaceutical Co. ltd. (NKP)-NTO-T...   \n",
       "1  Osnago, Lecco  Plastiape S.p.A.-NTO-Italy-Osnago, Lecco-GMP-N...   \n",
       "\n",
       "                          MostCriticalTargetCategory  AudInspStatus  ...  \\\n",
       "0                                         DP sterile  Closed - Done  ...   \n",
       "1  Medical Devices (assembly and accessories, com...  Closed - Done  ...   \n",
       "\n",
       "  REPEAT_OBSERVATION                             ObservShortDescription  \\\n",
       "0                 No  Inadequate smoke films to demonstrate air-flow...   \n",
       "1                 No                           Inadequate batch review.   \n",
       "\n",
       "  OBSERVATION_STATUS DI_flag                Category  \\\n",
       "0      Closed - Done      No  C08 - Steriles/Asepsis   \n",
       "1      Closed - Done      No           C02 - Quality   \n",
       "\n",
       "                                         SubCategory  \\\n",
       "0  S08.12 - Smoke studies (airflow visualization,...   \n",
       "1  S02.63 - Batch record review/product release p...   \n",
       "\n",
       "                             PROCESS                  Q_SYSTEM  \\\n",
       "0  P23.03 - Environmental Monitoring  Q23 - Sterile Operations   \n",
       "1   P21.03 - Medical Devices Release     Q21 - Product Release   \n",
       "\n",
       "                                     OBS_DESCRIPTION  \\\n",
       "0  Inadequate smoke films to demonstrate air-flow...   \n",
       "1                           Inadequate batch review.   \n",
       "\n",
       "                                  ObsFullDescription  \n",
       "0  Ensure that smoke studies are filmed in a mann...  \n",
       "1  Ensure that the release SOP require and descri...  \n",
       "\n",
       "[2 rows x 21 columns]"
      ]
     },
     "execution_count": 88,
     "metadata": {},
     "output_type": "execute_result"
    }
   ],
   "source": [
    "df.head(2)"
   ]
  },
  {
   "cell_type": "code",
   "execution_count": 89,
   "id": "4b63726c",
   "metadata": {},
   "outputs": [
    {
     "data": {
      "text/plain": [
       "ObservationID                 1050\n",
       "TargetCategory                1356\n",
       "AudInspType                     64\n",
       "AuditSubType                    65\n",
       "Outcome                        482\n",
       "Country                         65\n",
       "Location                        65\n",
       "AUD_INSP_DESCRIPTION            65\n",
       "MostCriticalTargetCategory    1177\n",
       "AudInspStatus                   65\n",
       "ObservationRating             1272\n",
       "REPEAT_OBSERVATION            1272\n",
       "ObservShortDescription        1272\n",
       "OBSERVATION_STATUS            1272\n",
       "DI_flag                       1272\n",
       "Category                      1272\n",
       "SubCategory                   1272\n",
       "PROCESS                       1272\n",
       "Q_SYSTEM                      1272\n",
       "OBS_DESCRIPTION               1273\n",
       "ObsFullDescription            1278\n",
       "dtype: int64"
      ]
     },
     "execution_count": 89,
     "metadata": {},
     "output_type": "execute_result"
    }
   ],
   "source": [
    " df.isnull().sum()"
   ]
  },
  {
   "cell_type": "markdown",
   "id": "d5dbf343",
   "metadata": {},
   "source": [
    "##Delete null values "
   ]
  },
  {
   "cell_type": "code",
   "execution_count": 90,
   "id": "4850596a",
   "metadata": {},
   "outputs": [],
   "source": [
    "df.dropna(inplace=True)"
   ]
  },
  {
   "cell_type": "code",
   "execution_count": 91,
   "id": "4837cf72",
   "metadata": {},
   "outputs": [
    {
     "data": {
      "text/html": [
       "<div>\n",
       "<style scoped>\n",
       "    .dataframe tbody tr th:only-of-type {\n",
       "        vertical-align: middle;\n",
       "    }\n",
       "\n",
       "    .dataframe tbody tr th {\n",
       "        vertical-align: top;\n",
       "    }\n",
       "\n",
       "    .dataframe thead th {\n",
       "        text-align: right;\n",
       "    }\n",
       "</style>\n",
       "<table border=\"1\" class=\"dataframe\">\n",
       "  <thead>\n",
       "    <tr style=\"text-align: right;\">\n",
       "      <th></th>\n",
       "      <th>ObservationID</th>\n",
       "      <th>TargetCategory</th>\n",
       "      <th>AudInspType</th>\n",
       "      <th>AuditSubType</th>\n",
       "      <th>Outcome</th>\n",
       "      <th>Country</th>\n",
       "      <th>Location</th>\n",
       "      <th>AUD_INSP_DESCRIPTION</th>\n",
       "      <th>MostCriticalTargetCategory</th>\n",
       "      <th>AudInspStatus</th>\n",
       "      <th>...</th>\n",
       "      <th>REPEAT_OBSERVATION</th>\n",
       "      <th>ObservShortDescription</th>\n",
       "      <th>OBSERVATION_STATUS</th>\n",
       "      <th>DI_flag</th>\n",
       "      <th>Category</th>\n",
       "      <th>SubCategory</th>\n",
       "      <th>PROCESS</th>\n",
       "      <th>Q_SYSTEM</th>\n",
       "      <th>OBS_DESCRIPTION</th>\n",
       "      <th>ObsFullDescription</th>\n",
       "    </tr>\n",
       "  </thead>\n",
       "  <tbody>\n",
       "    <tr>\n",
       "      <th>0</th>\n",
       "      <td>1979544.0</td>\n",
       "      <td>DP sterile</td>\n",
       "      <td>GMP</td>\n",
       "      <td>Pre-Qualification</td>\n",
       "      <td>Needs Improvement</td>\n",
       "      <td>Taiwan Republic of China</td>\n",
       "      <td>Tainan City,</td>\n",
       "      <td>Nang Kuang Pharmaceutical Co. ltd. (NKP)-NTO-T...</td>\n",
       "      <td>DP sterile</td>\n",
       "      <td>Closed - Done</td>\n",
       "      <td>...</td>\n",
       "      <td>No</td>\n",
       "      <td>Inadequate smoke films to demonstrate air-flow...</td>\n",
       "      <td>Closed - Done</td>\n",
       "      <td>No</td>\n",
       "      <td>C08 - Steriles/Asepsis</td>\n",
       "      <td>S08.12 - Smoke studies (airflow visualization,...</td>\n",
       "      <td>P23.03 - Environmental Monitoring</td>\n",
       "      <td>Q23 - Sterile Operations</td>\n",
       "      <td>Inadequate smoke films to demonstrate air-flow...</td>\n",
       "      <td>Ensure that smoke studies are filmed in a mann...</td>\n",
       "    </tr>\n",
       "    <tr>\n",
       "      <th>1</th>\n",
       "      <td>1989386.0</td>\n",
       "      <td>Medical Devices (assembly and accessories, com...</td>\n",
       "      <td>GMP</td>\n",
       "      <td>Routine</td>\n",
       "      <td>Satisfactory</td>\n",
       "      <td>Italy</td>\n",
       "      <td>Osnago, Lecco</td>\n",
       "      <td>Plastiape S.p.A.-NTO-Italy-Osnago, Lecco-GMP-N...</td>\n",
       "      <td>Medical Devices (assembly and accessories, com...</td>\n",
       "      <td>Closed - Done</td>\n",
       "      <td>...</td>\n",
       "      <td>No</td>\n",
       "      <td>Inadequate batch review.</td>\n",
       "      <td>Closed - Done</td>\n",
       "      <td>No</td>\n",
       "      <td>C02 - Quality</td>\n",
       "      <td>S02.63 - Batch record review/product release p...</td>\n",
       "      <td>P21.03 - Medical Devices Release</td>\n",
       "      <td>Q21 - Product Release</td>\n",
       "      <td>Inadequate batch review.</td>\n",
       "      <td>Ensure that the release SOP require and descri...</td>\n",
       "    </tr>\n",
       "  </tbody>\n",
       "</table>\n",
       "<p>2 rows × 21 columns</p>\n",
       "</div>"
      ],
      "text/plain": [
       "  ObservationID                                     TargetCategory  \\\n",
       "0     1979544.0                                         DP sterile   \n",
       "1     1989386.0  Medical Devices (assembly and accessories, com...   \n",
       "\n",
       "  AudInspType       AuditSubType            Outcome                   Country  \\\n",
       "0         GMP  Pre-Qualification  Needs Improvement  Taiwan Republic of China   \n",
       "1         GMP            Routine       Satisfactory                     Italy   \n",
       "\n",
       "        Location                               AUD_INSP_DESCRIPTION  \\\n",
       "0   Tainan City,  Nang Kuang Pharmaceutical Co. ltd. (NKP)-NTO-T...   \n",
       "1  Osnago, Lecco  Plastiape S.p.A.-NTO-Italy-Osnago, Lecco-GMP-N...   \n",
       "\n",
       "                          MostCriticalTargetCategory  AudInspStatus  ...  \\\n",
       "0                                         DP sterile  Closed - Done  ...   \n",
       "1  Medical Devices (assembly and accessories, com...  Closed - Done  ...   \n",
       "\n",
       "  REPEAT_OBSERVATION                             ObservShortDescription  \\\n",
       "0                 No  Inadequate smoke films to demonstrate air-flow...   \n",
       "1                 No                           Inadequate batch review.   \n",
       "\n",
       "  OBSERVATION_STATUS DI_flag                Category  \\\n",
       "0      Closed - Done      No  C08 - Steriles/Asepsis   \n",
       "1      Closed - Done      No           C02 - Quality   \n",
       "\n",
       "                                         SubCategory  \\\n",
       "0  S08.12 - Smoke studies (airflow visualization,...   \n",
       "1  S02.63 - Batch record review/product release p...   \n",
       "\n",
       "                             PROCESS                  Q_SYSTEM  \\\n",
       "0  P23.03 - Environmental Monitoring  Q23 - Sterile Operations   \n",
       "1   P21.03 - Medical Devices Release     Q21 - Product Release   \n",
       "\n",
       "                                     OBS_DESCRIPTION  \\\n",
       "0  Inadequate smoke films to demonstrate air-flow...   \n",
       "1                           Inadequate batch review.   \n",
       "\n",
       "                                  ObsFullDescription  \n",
       "0  Ensure that smoke studies are filmed in a mann...  \n",
       "1  Ensure that the release SOP require and descri...  \n",
       "\n",
       "[2 rows x 21 columns]"
      ]
     },
     "execution_count": 91,
     "metadata": {},
     "output_type": "execute_result"
    }
   ],
   "source": [
    "df.head(2)"
   ]
  },
  {
   "cell_type": "code",
   "execution_count": 92,
   "id": "a9a4b660",
   "metadata": {},
   "outputs": [
    {
     "data": {
      "text/plain": [
       "ObservationID                 0\n",
       "TargetCategory                0\n",
       "AudInspType                   0\n",
       "AuditSubType                  0\n",
       "Outcome                       0\n",
       "Country                       0\n",
       "Location                      0\n",
       "AUD_INSP_DESCRIPTION          0\n",
       "MostCriticalTargetCategory    0\n",
       "AudInspStatus                 0\n",
       "ObservationRating             0\n",
       "REPEAT_OBSERVATION            0\n",
       "ObservShortDescription        0\n",
       "OBSERVATION_STATUS            0\n",
       "DI_flag                       0\n",
       "Category                      0\n",
       "SubCategory                   0\n",
       "PROCESS                       0\n",
       "Q_SYSTEM                      0\n",
       "OBS_DESCRIPTION               0\n",
       "ObsFullDescription            0\n",
       "dtype: int64"
      ]
     },
     "execution_count": 92,
     "metadata": {},
     "output_type": "execute_result"
    }
   ],
   "source": [
    "df.isnull().sum()"
   ]
  },
  {
   "cell_type": "code",
   "execution_count": 93,
   "id": "a8a5c898",
   "metadata": {},
   "outputs": [
    {
     "data": {
      "text/plain": [
       "(32645, 21)"
      ]
     },
     "execution_count": 93,
     "metadata": {},
     "output_type": "execute_result"
    }
   ],
   "source": [
    "df.shape"
   ]
  },
  {
   "cell_type": "markdown",
   "id": "da453685",
   "metadata": {},
   "source": [
    "#I want you to build a model to predict whether REPEAT_OBSERVATION is needed or NOT(REPEAT_OBSERVATION).\n"
   ]
  },
  {
   "cell_type": "code",
   "execution_count": 94,
   "id": "ee533634",
   "metadata": {},
   "outputs": [],
   "source": [
    "data = df[['REPEAT_OBSERVATION','ObsFullDescription']]"
   ]
  },
  {
   "cell_type": "code",
   "execution_count": 95,
   "id": "fe7ee030",
   "metadata": {},
   "outputs": [
    {
     "data": {
      "text/plain": [
       "(32645, 2)"
      ]
     },
     "execution_count": 95,
     "metadata": {},
     "output_type": "execute_result"
    }
   ],
   "source": [
    "data.shape"
   ]
  },
  {
   "cell_type": "code",
   "execution_count": 96,
   "id": "b9f1e716",
   "metadata": {},
   "outputs": [
    {
     "data": {
      "text/html": [
       "<div>\n",
       "<style scoped>\n",
       "    .dataframe tbody tr th:only-of-type {\n",
       "        vertical-align: middle;\n",
       "    }\n",
       "\n",
       "    .dataframe tbody tr th {\n",
       "        vertical-align: top;\n",
       "    }\n",
       "\n",
       "    .dataframe thead th {\n",
       "        text-align: right;\n",
       "    }\n",
       "</style>\n",
       "<table border=\"1\" class=\"dataframe\">\n",
       "  <thead>\n",
       "    <tr style=\"text-align: right;\">\n",
       "      <th></th>\n",
       "      <th>REPEAT_OBSERVATION</th>\n",
       "      <th>ObsFullDescription</th>\n",
       "    </tr>\n",
       "  </thead>\n",
       "  <tbody>\n",
       "    <tr>\n",
       "      <th>0</th>\n",
       "      <td>No</td>\n",
       "      <td>Ensure that smoke studies are filmed in a mann...</td>\n",
       "    </tr>\n",
       "    <tr>\n",
       "      <th>1</th>\n",
       "      <td>No</td>\n",
       "      <td>Ensure that the release SOP require and descri...</td>\n",
       "    </tr>\n",
       "  </tbody>\n",
       "</table>\n",
       "</div>"
      ],
      "text/plain": [
       "  REPEAT_OBSERVATION                                 ObsFullDescription\n",
       "0                 No  Ensure that smoke studies are filmed in a mann...\n",
       "1                 No  Ensure that the release SOP require and descri..."
      ]
     },
     "execution_count": 96,
     "metadata": {},
     "output_type": "execute_result"
    }
   ],
   "source": [
    "data.head(2)"
   ]
  },
  {
   "cell_type": "code",
   "execution_count": 97,
   "id": "38612840",
   "metadata": {},
   "outputs": [
    {
     "name": "stderr",
     "output_type": "stream",
     "text": [
      "C:\\Users\\life\\AppData\\Local\\Temp\\ipykernel_18260\\3558572276.py:1: SettingWithCopyWarning: \n",
      "A value is trying to be set on a copy of a slice from a DataFrame\n",
      "\n",
      "See the caveats in the documentation: https://pandas.pydata.org/pandas-docs/stable/user_guide/indexing.html#returning-a-view-versus-a-copy\n",
      "  data.dropna(subset=['ObsFullDescription'],inplace=True)\n"
     ]
    }
   ],
   "source": [
    "data.dropna(subset=['ObsFullDescription'],inplace=True)"
   ]
  },
  {
   "cell_type": "code",
   "execution_count": 98,
   "id": "edaea7cb",
   "metadata": {},
   "outputs": [
    {
     "name": "stderr",
     "output_type": "stream",
     "text": [
      "C:\\Users\\life\\AppData\\Local\\Temp\\ipykernel_18260\\4239138846.py:2: SettingWithCopyWarning: \n",
      "A value is trying to be set on a copy of a slice from a DataFrame.\n",
      "Try using .loc[row_indexer,col_indexer] = value instead\n",
      "\n",
      "See the caveats in the documentation: https://pandas.pydata.org/pandas-docs/stable/user_guide/indexing.html#returning-a-view-versus-a-copy\n",
      "  data['REPEAT_OBSERVATION'] = df['REPEAT_OBSERVATION'].map({'No': 0, 'Yes': 1})\n"
     ]
    }
   ],
   "source": [
    "# encoding DI_flag column as No:0 , Yes:1\n",
    "data['REPEAT_OBSERVATION'] = df['REPEAT_OBSERVATION'].map({'No': 0, 'Yes': 1})"
   ]
  },
  {
   "cell_type": "code",
   "execution_count": 99,
   "id": "de92c658",
   "metadata": {},
   "outputs": [
    {
     "data": {
      "text/html": [
       "<div>\n",
       "<style scoped>\n",
       "    .dataframe tbody tr th:only-of-type {\n",
       "        vertical-align: middle;\n",
       "    }\n",
       "\n",
       "    .dataframe tbody tr th {\n",
       "        vertical-align: top;\n",
       "    }\n",
       "\n",
       "    .dataframe thead th {\n",
       "        text-align: right;\n",
       "    }\n",
       "</style>\n",
       "<table border=\"1\" class=\"dataframe\">\n",
       "  <thead>\n",
       "    <tr style=\"text-align: right;\">\n",
       "      <th></th>\n",
       "      <th>REPEAT_OBSERVATION</th>\n",
       "      <th>ObsFullDescription</th>\n",
       "    </tr>\n",
       "  </thead>\n",
       "  <tbody>\n",
       "    <tr>\n",
       "      <th>0</th>\n",
       "      <td>0</td>\n",
       "      <td>Ensure that smoke studies are filmed in a mann...</td>\n",
       "    </tr>\n",
       "    <tr>\n",
       "      <th>1</th>\n",
       "      <td>0</td>\n",
       "      <td>Ensure that the release SOP require and descri...</td>\n",
       "    </tr>\n",
       "  </tbody>\n",
       "</table>\n",
       "</div>"
      ],
      "text/plain": [
       "   REPEAT_OBSERVATION                                 ObsFullDescription\n",
       "0                   0  Ensure that smoke studies are filmed in a mann...\n",
       "1                   0  Ensure that the release SOP require and descri..."
      ]
     },
     "execution_count": 99,
     "metadata": {},
     "output_type": "execute_result"
    }
   ],
   "source": [
    "data.head(2)"
   ]
  },
  {
   "cell_type": "code",
   "execution_count": 100,
   "id": "c94b9a8c",
   "metadata": {},
   "outputs": [
    {
     "name": "stdout",
     "output_type": "stream",
     "text": [
      "Requirement already satisfied: nltk in c:\\users\\life\\appdata\\local\\programs\\python\\python313\\lib\\site-packages (3.9.1)\n",
      "Requirement already satisfied: click in c:\\users\\life\\appdata\\local\\programs\\python\\python313\\lib\\site-packages (from nltk) (8.2.1)\n",
      "Requirement already satisfied: joblib in c:\\users\\life\\appdata\\local\\programs\\python\\python313\\lib\\site-packages (from nltk) (1.5.1)\n",
      "Requirement already satisfied: regex>=2021.8.3 in c:\\users\\life\\appdata\\local\\programs\\python\\python313\\lib\\site-packages (from nltk) (2025.9.1)\n",
      "Requirement already satisfied: tqdm in c:\\users\\life\\appdata\\local\\programs\\python\\python313\\lib\\site-packages (from nltk) (4.67.1)\n",
      "Requirement already satisfied: colorama in c:\\users\\life\\appdata\\local\\programs\\python\\python313\\lib\\site-packages (from click->nltk) (0.4.6)\n",
      "Note: you may need to restart the kernel to use updated packages.\n"
     ]
    },
    {
     "name": "stderr",
     "output_type": "stream",
     "text": [
      "\n",
      "[notice] A new release of pip is available: 25.1.1 -> 25.2\n",
      "[notice] To update, run: python.exe -m pip install --upgrade pip\n"
     ]
    }
   ],
   "source": [
    "pip install nltk"
   ]
  },
  {
   "cell_type": "code",
   "execution_count": 108,
   "id": "ddc6a147",
   "metadata": {},
   "outputs": [],
   "source": [
    "import re\n",
    "import nltk\n",
    "from nltk.corpus import stopwords\n",
    "from sklearn.model_selection import train_test_split\n",
    "from sklearn.feature_extraction.text import TfidfVectorizer\n",
    "from sklearn.linear_model import LogisticRegression\n",
    "from sklearn.metrics import accuracy_score, classification_report"
   ]
  },
  {
   "cell_type": "code",
   "execution_count": 102,
   "id": "f72d8fb6",
   "metadata": {},
   "outputs": [],
   "source": [
    "# lowercase, remove special characters and remove stop words\n",
    "def clean_text(text):\n",
    "    text = text.lower()  # lowercase\n",
    "    text = re.sub(r'\\W', ' ', text)  # remove special characters\n",
    "    text = re.sub(r'\\s+', ' ', text, flags=re.I)  # remove extra spaces\n",
    "    text = re.sub(r'^b\\s+', '', text)  # remove prefixed 'b'\n",
    "    text = re.sub(r'\\d+', '', text)  # remove numbers\n",
    "    text = text.strip()  # remove leading and trailing spaces\n",
    "    tokens = text.split()  # tokenize the text\n",
    "    tokens = [word for word in tokens if word not in stopwords.words('english')]  # remove stop words\n",
    "    return ' '.join(tokens)  # join tokens back to string"
   ]
  },
  {
   "cell_type": "code",
   "execution_count": 103,
   "id": "5803fd6a",
   "metadata": {},
   "outputs": [
    {
     "name": "stderr",
     "output_type": "stream",
     "text": [
      "C:\\Users\\life\\AppData\\Local\\Temp\\ipykernel_18260\\311378834.py:2: SettingWithCopyWarning: \n",
      "A value is trying to be set on a copy of a slice from a DataFrame.\n",
      "Try using .loc[row_indexer,col_indexer] = value instead\n",
      "\n",
      "See the caveats in the documentation: https://pandas.pydata.org/pandas-docs/stable/user_guide/indexing.html#returning-a-view-versus-a-copy\n",
      "  data['cleaned_ObsFullDescription'] = cleaned_text\n"
     ]
    },
    {
     "data": {
      "text/html": [
       "<div>\n",
       "<style scoped>\n",
       "    .dataframe tbody tr th:only-of-type {\n",
       "        vertical-align: middle;\n",
       "    }\n",
       "\n",
       "    .dataframe tbody tr th {\n",
       "        vertical-align: top;\n",
       "    }\n",
       "\n",
       "    .dataframe thead th {\n",
       "        text-align: right;\n",
       "    }\n",
       "</style>\n",
       "<table border=\"1\" class=\"dataframe\">\n",
       "  <thead>\n",
       "    <tr style=\"text-align: right;\">\n",
       "      <th></th>\n",
       "      <th>REPEAT_OBSERVATION</th>\n",
       "      <th>ObsFullDescription</th>\n",
       "      <th>cleaned_ObsFullDescription</th>\n",
       "    </tr>\n",
       "  </thead>\n",
       "  <tbody>\n",
       "    <tr>\n",
       "      <th>0</th>\n",
       "      <td>0</td>\n",
       "      <td>Ensure that smoke studies are filmed in a mann...</td>\n",
       "      <td>ensure smoke studies filmed manner appropriate...</td>\n",
       "    </tr>\n",
       "    <tr>\n",
       "      <th>1</th>\n",
       "      <td>0</td>\n",
       "      <td>Ensure that the release SOP require and descri...</td>\n",
       "      <td>ensure release sop require describe review non...</td>\n",
       "    </tr>\n",
       "  </tbody>\n",
       "</table>\n",
       "</div>"
      ],
      "text/plain": [
       "   REPEAT_OBSERVATION                                 ObsFullDescription  \\\n",
       "0                   0  Ensure that smoke studies are filmed in a mann...   \n",
       "1                   0  Ensure that the release SOP require and descri...   \n",
       "\n",
       "                          cleaned_ObsFullDescription  \n",
       "0  ensure smoke studies filmed manner appropriate...  \n",
       "1  ensure release sop require describe review non...  "
      ]
     },
     "execution_count": 103,
     "metadata": {},
     "output_type": "execute_result"
    }
   ],
   "source": [
    "cleaned_text = data['ObsFullDescription'].apply(clean_text)\n",
    "data['cleaned_ObsFullDescription'] = cleaned_text\n",
    "data.head(2)"
   ]
  },
  {
   "cell_type": "code",
   "execution_count": 104,
   "id": "2955180f",
   "metadata": {},
   "outputs": [
    {
     "name": "stdout",
     "output_type": "stream",
     "text": [
      "(26116,) (6529,) (26116,) (6529,)\n"
     ]
    }
   ],
   "source": [
    "#predict test accuracy and metrics\n",
    "#1.Split the data\n",
    "from sklearn.model_selection import train_test_split    \n",
    "X = data['cleaned_ObsFullDescription']\n",
    "y = df['DI_flag']       \n",
    "X_train, X_test, y_train, y_test = train_test_split(X, y, test_size=0.2, random_state=42)\n",
    "print(X_train.shape, X_test.shape, y_train.shape, y_test.shape)\n",
    "            "
   ]
  },
  {
   "cell_type": "code",
   "execution_count": 109,
   "id": "d3025e8b",
   "metadata": {},
   "outputs": [
    {
     "name": "stdout",
     "output_type": "stream",
     "text": [
      "Accuracy: 0.9197426864757237\n",
      "\n",
      "Classification Report:\n",
      "               precision    recall  f1-score   support\n",
      "\n",
      "          No       0.93      0.99      0.96      5860\n",
      "         Yes       0.75      0.32      0.45       669\n",
      "\n",
      "    accuracy                           0.92      6529\n",
      "   macro avg       0.84      0.66      0.70      6529\n",
      "weighted avg       0.91      0.92      0.91      6529\n",
      "\n"
     ]
    }
   ],
   "source": [
    "ectorizer = TfidfVectorizer(max_features=5000, ngram_range=(1,2))\n",
    "X_train_vectors = vectorizer.fit_transform(X_train)\n",
    "X_test_vectors = vectorizer.transform(X_test)\n",
    "\n",
    "# Step 2: Train a model (Logistic Regression here)\n",
    "model = LogisticRegression(max_iter=200)\n",
    "model.fit(X_train_vectors, y_train)\n",
    "\n",
    "# Step 3: Predict & evaluate\n",
    "y_pred = model.predict(X_test_vectors)\n",
    "accuracy = accuracy_score(y_test, y_pred)\n",
    "\n",
    "print(\"Accuracy:\", accuracy)\n",
    "print(\"\\nClassification Report:\\n\", classification_report(y_test, y_pred))\n"
   ]
  },
  {
   "cell_type": "code",
   "execution_count": 110,
   "id": "32eac899",
   "metadata": {},
   "outputs": [
    {
     "name": "stdout",
     "output_type": "stream",
     "text": [
      "Accuracy: 0.9197426864757237\n"
     ]
    }
   ],
   "source": [
    "#3.train the model\n",
    "from sklearn.linear_model import LogisticRegression\n",
    "model = LogisticRegression()    \n",
    "model.fit(X_train_vectors, y_train)\n",
    "#4.predict and evaluate the model\n",
    "# Predict on the test set\n",
    "y_pred = model.predict(X_test_vectors)\n",
    "accuracy = model.score(X_test_vectors, y_test)\n",
    "print(\"Accuracy:\", accuracy)   "
   ]
  },
  {
   "cell_type": "code",
   "execution_count": 111,
   "id": "4a555321",
   "metadata": {},
   "outputs": [
    {
     "name": "stdout",
     "output_type": "stream",
     "text": [
      "Accuracy: 0.9197426864757237\n",
      "Classification Report:\n",
      "              precision    recall  f1-score   support\n",
      "\n",
      "          No       0.93      0.99      0.96      5860\n",
      "         Yes       0.75      0.32      0.45       669\n",
      "\n",
      "    accuracy                           0.92      6529\n",
      "   macro avg       0.84      0.66      0.70      6529\n",
      "weighted avg       0.91      0.92      0.91      6529\n",
      "\n"
     ]
    }
   ],
   "source": [
    "from sklearn.metrics import accuracy_score, classification_report, confusion_matrix\n",
    "accuracy = accuracy_score(y_test, y_pred)   \n",
    "print(f'Accuracy: {accuracy}')\n",
    "print('Classification Report:')         \n",
    "print(classification_report(y_test, y_pred))\n"
   ]
  },
  {
   "cell_type": "code",
   "execution_count": null,
   "id": "420f9113",
   "metadata": {},
   "outputs": [],
   "source": []
  }
 ],
 "metadata": {
  "kernelspec": {
   "display_name": "Python 3",
   "language": "python",
   "name": "python3"
  },
  "language_info": {
   "codemirror_mode": {
    "name": "ipython",
    "version": 3
   },
   "file_extension": ".py",
   "mimetype": "text/x-python",
   "name": "python",
   "nbconvert_exporter": "python",
   "pygments_lexer": "ipython3",
   "version": "3.13.5"
  }
 },
 "nbformat": 4,
 "nbformat_minor": 5
}
